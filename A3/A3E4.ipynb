{
 "cells": [
  {
   "cell_type": "code",
   "execution_count": 4,
   "metadata": {},
   "outputs": [
    {
     "name": "stdout",
     "output_type": "stream",
     "text": [
      "     Database Fundamentals Computer Architecture  \\\n",
      "0             Professional        Not Interested   \n",
      "1             Professional                  Poor   \n",
      "2             Professional              Beginner   \n",
      "3             Professional               Average   \n",
      "4             Professional          Intermediate   \n",
      "...                    ...                   ...   \n",
      "9174        Not Interested        Not Interested   \n",
      "9175        Not Interested        Not Interested   \n",
      "9176        Not Interested        Not Interested   \n",
      "9177        Not Interested        Not Interested   \n",
      "9178        Not Interested        Not Interested   \n",
      "\n",
      "     Distributed Computing Systems  Cyber Security      Networking  \\\n",
      "0                   Not Interested  Not Interested  Not Interested   \n",
      "1                   Not Interested  Not Interested  Not Interested   \n",
      "2                   Not Interested  Not Interested  Not Interested   \n",
      "3                   Not Interested  Not Interested  Not Interested   \n",
      "4                   Not Interested  Not Interested  Not Interested   \n",
      "...                            ...             ...             ...   \n",
      "9174                Not Interested  Not Interested  Not Interested   \n",
      "9175                Not Interested  Not Interested  Not Interested   \n",
      "9176                Not Interested  Not Interested  Not Interested   \n",
      "9177                Not Interested  Not Interested  Not Interested   \n",
      "9178                Not Interested  Not Interested  Not Interested   \n",
      "\n",
      "     Software Development Programming Skills Project Management  \\\n",
      "0          Not Interested     Not Interested     Not Interested   \n",
      "1          Not Interested     Not Interested     Not Interested   \n",
      "2          Not Interested     Not Interested     Not Interested   \n",
      "3          Not Interested     Not Interested     Not Interested   \n",
      "4          Not Interested     Not Interested     Not Interested   \n",
      "...                   ...                ...                ...   \n",
      "9174       Not Interested     Not Interested     Not Interested   \n",
      "9175       Not Interested     Not Interested     Not Interested   \n",
      "9176       Not Interested     Not Interested     Not Interested   \n",
      "9177       Not Interested     Not Interested     Not Interested   \n",
      "9178       Not Interested     Not Interested     Not Interested   \n",
      "\n",
      "     Computer Forensics Fundamentals Technical Communication           AI ML  \\\n",
      "0                     Not Interested          Not Interested  Not Interested   \n",
      "1                     Not Interested          Not Interested  Not Interested   \n",
      "2                     Not Interested          Not Interested  Not Interested   \n",
      "3                     Not Interested          Not Interested  Not Interested   \n",
      "4                     Not Interested          Not Interested  Not Interested   \n",
      "...                              ...                     ...             ...   \n",
      "9174                  Not Interested          Not Interested  Not Interested   \n",
      "9175                  Not Interested          Not Interested  Not Interested   \n",
      "9176                  Not Interested          Not Interested  Not Interested   \n",
      "9177                  Not Interested          Not Interested  Not Interested   \n",
      "9178                  Not Interested          Not Interested  Not Interested   \n",
      "\n",
      "     Software Engineering Business Analysis Communication skills  \\\n",
      "0          Not Interested    Not Interested       Not Interested   \n",
      "1          Not Interested    Not Interested       Not Interested   \n",
      "2          Not Interested    Not Interested       Not Interested   \n",
      "3          Not Interested    Not Interested       Not Interested   \n",
      "4          Not Interested    Not Interested       Not Interested   \n",
      "...                   ...               ...                  ...   \n",
      "9174       Not Interested    Not Interested       Not Interested   \n",
      "9175       Not Interested    Not Interested       Not Interested   \n",
      "9176       Not Interested    Not Interested       Not Interested   \n",
      "9177       Not Interested    Not Interested       Not Interested   \n",
      "9178       Not Interested    Not Interested       Not Interested   \n",
      "\n",
      "        Data Science Troubleshooting skills Graphics Designing  \\\n",
      "0     Not Interested         Not Interested     Not Interested   \n",
      "1     Not Interested         Not Interested     Not Interested   \n",
      "2     Not Interested         Not Interested     Not Interested   \n",
      "3     Not Interested         Not Interested     Not Interested   \n",
      "4     Not Interested         Not Interested     Not Interested   \n",
      "...              ...                    ...                ...   \n",
      "9174            Poor                   Poor       Professional   \n",
      "9175        Beginner               Beginner       Professional   \n",
      "9176         Average                Average       Professional   \n",
      "9177    Intermediate           Intermediate       Professional   \n",
      "9178       Excellent              Excellent       Professional   \n",
      "\n",
      "                        Role  \n",
      "0     Database Administrator  \n",
      "1     Database Administrator  \n",
      "2     Database Administrator  \n",
      "3     Database Administrator  \n",
      "4     Database Administrator  \n",
      "...                      ...  \n",
      "9174       Graphics Designer  \n",
      "9175       Graphics Designer  \n",
      "9176       Graphics Designer  \n",
      "9177       Graphics Designer  \n",
      "9178       Graphics Designer  \n",
      "\n",
      "[9179 rows x 18 columns]\n"
     ]
    }
   ],
   "source": [
    "import pandas as pd\n",
    "df = pd.read_csv ('dataset9000.csv')\n",
    "print(df)"
   ]
  },
  {
   "cell_type": "code",
   "execution_count": 7,
   "metadata": {},
   "outputs": [
    {
     "name": "stdout",
     "output_type": "stream",
     "text": [
      "<class 'pandas.core.frame.DataFrame'>\n",
      "RangeIndex: 9179 entries, 0 to 9178\n",
      "Data columns (total 18 columns):\n",
      " #   Column                           Non-Null Count  Dtype \n",
      "---  ------                           --------------  ----- \n",
      " 0   Database Fundamentals            9179 non-null   object\n",
      " 1   Computer Architecture            9179 non-null   object\n",
      " 2   Distributed Computing Systems    9179 non-null   object\n",
      " 3   Cyber Security                   9179 non-null   object\n",
      " 4   Networking                       9179 non-null   object\n",
      " 5   Software Development             9179 non-null   object\n",
      " 6   Programming Skills               9179 non-null   object\n",
      " 7   Project Management               9179 non-null   object\n",
      " 8   Computer Forensics Fundamentals  9179 non-null   object\n",
      " 9   Technical Communication          9179 non-null   object\n",
      " 10  AI ML                            9179 non-null   object\n",
      " 11  Software Engineering             9179 non-null   object\n",
      " 12  Business Analysis                9179 non-null   object\n",
      " 13  Communication skills             9179 non-null   object\n",
      " 14  Data Science                     9179 non-null   object\n",
      " 15  Troubleshooting skills           9179 non-null   object\n",
      " 16  Graphics Designing               9178 non-null   object\n",
      " 17  Role                             9179 non-null   object\n",
      "dtypes: object(18)\n",
      "memory usage: 1.3+ MB\n"
     ]
    }
   ],
   "source": [
    "df.info()"
   ]
  },
  {
   "cell_type": "code",
   "execution_count": 5,
   "metadata": {},
   "outputs": [
    {
     "data": {
      "text/plain": [
       "array(['Database Administrator', 'Hardware Engineer',\n",
       "       'Application Support Engineer', 'Cyber Security Specialist',\n",
       "       'Networking Engineer', 'Software Developer', 'API Specialist',\n",
       "       'Project Manager', 'Information Security Specialist',\n",
       "       'Technical Writer', 'AI ML Specialist', 'Software tester',\n",
       "       'Business Analyst', 'Customer Service Executive', 'Data Scientist',\n",
       "       'Helpdesk Engineer', 'Graphics Designer'], dtype=object)"
      ]
     },
     "execution_count": 5,
     "metadata": {},
     "output_type": "execute_result"
    }
   ],
   "source": [
    "df.Role.unique()\n"
   ]
  },
  {
   "cell_type": "code",
   "execution_count": 22,
   "metadata": {},
   "outputs": [
    {
     "data": {
      "text/html": [
       "<div>\n",
       "<style scoped>\n",
       "    .dataframe tbody tr th:only-of-type {\n",
       "        vertical-align: middle;\n",
       "    }\n",
       "\n",
       "    .dataframe tbody tr th {\n",
       "        vertical-align: top;\n",
       "    }\n",
       "\n",
       "    .dataframe thead th {\n",
       "        text-align: right;\n",
       "    }\n",
       "</style>\n",
       "<table border=\"1\" class=\"dataframe\">\n",
       "  <thead>\n",
       "    <tr style=\"text-align: right;\">\n",
       "      <th></th>\n",
       "      <th>Database Fundamentals</th>\n",
       "      <th>Computer Architecture</th>\n",
       "      <th>Distributed Computing Systems</th>\n",
       "      <th>Cyber Security</th>\n",
       "      <th>Networking</th>\n",
       "      <th>Software Development</th>\n",
       "      <th>Programming Skills</th>\n",
       "      <th>Project Management</th>\n",
       "      <th>Computer Forensics Fundamentals</th>\n",
       "      <th>Technical Communication</th>\n",
       "      <th>AI ML</th>\n",
       "      <th>Software Engineering</th>\n",
       "      <th>Business Analysis</th>\n",
       "      <th>Communication skills</th>\n",
       "      <th>Data Science</th>\n",
       "      <th>Troubleshooting skills</th>\n",
       "      <th>Graphics Designing</th>\n",
       "      <th>Role</th>\n",
       "    </tr>\n",
       "  </thead>\n",
       "  <tbody>\n",
       "    <tr>\n",
       "      <th>0</th>\n",
       "      <td>False</td>\n",
       "      <td>False</td>\n",
       "      <td>False</td>\n",
       "      <td>False</td>\n",
       "      <td>False</td>\n",
       "      <td>False</td>\n",
       "      <td>False</td>\n",
       "      <td>False</td>\n",
       "      <td>False</td>\n",
       "      <td>False</td>\n",
       "      <td>False</td>\n",
       "      <td>False</td>\n",
       "      <td>False</td>\n",
       "      <td>False</td>\n",
       "      <td>False</td>\n",
       "      <td>False</td>\n",
       "      <td>False</td>\n",
       "      <td>False</td>\n",
       "    </tr>\n",
       "    <tr>\n",
       "      <th>1</th>\n",
       "      <td>False</td>\n",
       "      <td>False</td>\n",
       "      <td>False</td>\n",
       "      <td>False</td>\n",
       "      <td>False</td>\n",
       "      <td>False</td>\n",
       "      <td>False</td>\n",
       "      <td>False</td>\n",
       "      <td>False</td>\n",
       "      <td>False</td>\n",
       "      <td>False</td>\n",
       "      <td>False</td>\n",
       "      <td>False</td>\n",
       "      <td>False</td>\n",
       "      <td>False</td>\n",
       "      <td>False</td>\n",
       "      <td>False</td>\n",
       "      <td>False</td>\n",
       "    </tr>\n",
       "    <tr>\n",
       "      <th>2</th>\n",
       "      <td>False</td>\n",
       "      <td>False</td>\n",
       "      <td>False</td>\n",
       "      <td>False</td>\n",
       "      <td>False</td>\n",
       "      <td>False</td>\n",
       "      <td>False</td>\n",
       "      <td>False</td>\n",
       "      <td>False</td>\n",
       "      <td>False</td>\n",
       "      <td>False</td>\n",
       "      <td>False</td>\n",
       "      <td>False</td>\n",
       "      <td>False</td>\n",
       "      <td>False</td>\n",
       "      <td>False</td>\n",
       "      <td>False</td>\n",
       "      <td>False</td>\n",
       "    </tr>\n",
       "    <tr>\n",
       "      <th>3</th>\n",
       "      <td>False</td>\n",
       "      <td>False</td>\n",
       "      <td>False</td>\n",
       "      <td>False</td>\n",
       "      <td>False</td>\n",
       "      <td>False</td>\n",
       "      <td>False</td>\n",
       "      <td>False</td>\n",
       "      <td>False</td>\n",
       "      <td>False</td>\n",
       "      <td>False</td>\n",
       "      <td>False</td>\n",
       "      <td>False</td>\n",
       "      <td>False</td>\n",
       "      <td>False</td>\n",
       "      <td>False</td>\n",
       "      <td>False</td>\n",
       "      <td>False</td>\n",
       "    </tr>\n",
       "    <tr>\n",
       "      <th>4</th>\n",
       "      <td>False</td>\n",
       "      <td>False</td>\n",
       "      <td>False</td>\n",
       "      <td>False</td>\n",
       "      <td>False</td>\n",
       "      <td>False</td>\n",
       "      <td>False</td>\n",
       "      <td>False</td>\n",
       "      <td>False</td>\n",
       "      <td>False</td>\n",
       "      <td>False</td>\n",
       "      <td>False</td>\n",
       "      <td>False</td>\n",
       "      <td>False</td>\n",
       "      <td>False</td>\n",
       "      <td>False</td>\n",
       "      <td>False</td>\n",
       "      <td>False</td>\n",
       "    </tr>\n",
       "    <tr>\n",
       "      <th>...</th>\n",
       "      <td>...</td>\n",
       "      <td>...</td>\n",
       "      <td>...</td>\n",
       "      <td>...</td>\n",
       "      <td>...</td>\n",
       "      <td>...</td>\n",
       "      <td>...</td>\n",
       "      <td>...</td>\n",
       "      <td>...</td>\n",
       "      <td>...</td>\n",
       "      <td>...</td>\n",
       "      <td>...</td>\n",
       "      <td>...</td>\n",
       "      <td>...</td>\n",
       "      <td>...</td>\n",
       "      <td>...</td>\n",
       "      <td>...</td>\n",
       "      <td>...</td>\n",
       "    </tr>\n",
       "    <tr>\n",
       "      <th>9174</th>\n",
       "      <td>False</td>\n",
       "      <td>False</td>\n",
       "      <td>False</td>\n",
       "      <td>False</td>\n",
       "      <td>False</td>\n",
       "      <td>False</td>\n",
       "      <td>False</td>\n",
       "      <td>False</td>\n",
       "      <td>False</td>\n",
       "      <td>False</td>\n",
       "      <td>False</td>\n",
       "      <td>False</td>\n",
       "      <td>False</td>\n",
       "      <td>False</td>\n",
       "      <td>False</td>\n",
       "      <td>False</td>\n",
       "      <td>False</td>\n",
       "      <td>False</td>\n",
       "    </tr>\n",
       "    <tr>\n",
       "      <th>9175</th>\n",
       "      <td>False</td>\n",
       "      <td>False</td>\n",
       "      <td>False</td>\n",
       "      <td>False</td>\n",
       "      <td>False</td>\n",
       "      <td>False</td>\n",
       "      <td>False</td>\n",
       "      <td>False</td>\n",
       "      <td>False</td>\n",
       "      <td>False</td>\n",
       "      <td>False</td>\n",
       "      <td>False</td>\n",
       "      <td>False</td>\n",
       "      <td>False</td>\n",
       "      <td>False</td>\n",
       "      <td>False</td>\n",
       "      <td>False</td>\n",
       "      <td>False</td>\n",
       "    </tr>\n",
       "    <tr>\n",
       "      <th>9176</th>\n",
       "      <td>False</td>\n",
       "      <td>False</td>\n",
       "      <td>False</td>\n",
       "      <td>False</td>\n",
       "      <td>False</td>\n",
       "      <td>False</td>\n",
       "      <td>False</td>\n",
       "      <td>False</td>\n",
       "      <td>False</td>\n",
       "      <td>False</td>\n",
       "      <td>False</td>\n",
       "      <td>False</td>\n",
       "      <td>False</td>\n",
       "      <td>False</td>\n",
       "      <td>False</td>\n",
       "      <td>False</td>\n",
       "      <td>False</td>\n",
       "      <td>False</td>\n",
       "    </tr>\n",
       "    <tr>\n",
       "      <th>9177</th>\n",
       "      <td>False</td>\n",
       "      <td>False</td>\n",
       "      <td>False</td>\n",
       "      <td>False</td>\n",
       "      <td>False</td>\n",
       "      <td>False</td>\n",
       "      <td>False</td>\n",
       "      <td>False</td>\n",
       "      <td>False</td>\n",
       "      <td>False</td>\n",
       "      <td>False</td>\n",
       "      <td>False</td>\n",
       "      <td>False</td>\n",
       "      <td>False</td>\n",
       "      <td>False</td>\n",
       "      <td>False</td>\n",
       "      <td>False</td>\n",
       "      <td>False</td>\n",
       "    </tr>\n",
       "    <tr>\n",
       "      <th>9178</th>\n",
       "      <td>False</td>\n",
       "      <td>False</td>\n",
       "      <td>False</td>\n",
       "      <td>False</td>\n",
       "      <td>False</td>\n",
       "      <td>False</td>\n",
       "      <td>False</td>\n",
       "      <td>False</td>\n",
       "      <td>False</td>\n",
       "      <td>False</td>\n",
       "      <td>False</td>\n",
       "      <td>False</td>\n",
       "      <td>False</td>\n",
       "      <td>False</td>\n",
       "      <td>False</td>\n",
       "      <td>False</td>\n",
       "      <td>False</td>\n",
       "      <td>False</td>\n",
       "    </tr>\n",
       "  </tbody>\n",
       "</table>\n",
       "<p>9179 rows × 18 columns</p>\n",
       "</div>"
      ],
      "text/plain": [
       "      Database Fundamentals  Computer Architecture  \\\n",
       "0                     False                  False   \n",
       "1                     False                  False   \n",
       "2                     False                  False   \n",
       "3                     False                  False   \n",
       "4                     False                  False   \n",
       "...                     ...                    ...   \n",
       "9174                  False                  False   \n",
       "9175                  False                  False   \n",
       "9176                  False                  False   \n",
       "9177                  False                  False   \n",
       "9178                  False                  False   \n",
       "\n",
       "      Distributed Computing Systems  Cyber Security  Networking  \\\n",
       "0                             False           False       False   \n",
       "1                             False           False       False   \n",
       "2                             False           False       False   \n",
       "3                             False           False       False   \n",
       "4                             False           False       False   \n",
       "...                             ...             ...         ...   \n",
       "9174                          False           False       False   \n",
       "9175                          False           False       False   \n",
       "9176                          False           False       False   \n",
       "9177                          False           False       False   \n",
       "9178                          False           False       False   \n",
       "\n",
       "      Software Development  Programming Skills  Project Management  \\\n",
       "0                    False               False               False   \n",
       "1                    False               False               False   \n",
       "2                    False               False               False   \n",
       "3                    False               False               False   \n",
       "4                    False               False               False   \n",
       "...                    ...                 ...                 ...   \n",
       "9174                 False               False               False   \n",
       "9175                 False               False               False   \n",
       "9176                 False               False               False   \n",
       "9177                 False               False               False   \n",
       "9178                 False               False               False   \n",
       "\n",
       "      Computer Forensics Fundamentals  Technical Communication  AI ML  \\\n",
       "0                               False                    False  False   \n",
       "1                               False                    False  False   \n",
       "2                               False                    False  False   \n",
       "3                               False                    False  False   \n",
       "4                               False                    False  False   \n",
       "...                               ...                      ...    ...   \n",
       "9174                            False                    False  False   \n",
       "9175                            False                    False  False   \n",
       "9176                            False                    False  False   \n",
       "9177                            False                    False  False   \n",
       "9178                            False                    False  False   \n",
       "\n",
       "      Software Engineering  Business Analysis  Communication skills  \\\n",
       "0                    False              False                 False   \n",
       "1                    False              False                 False   \n",
       "2                    False              False                 False   \n",
       "3                    False              False                 False   \n",
       "4                    False              False                 False   \n",
       "...                    ...                ...                   ...   \n",
       "9174                 False              False                 False   \n",
       "9175                 False              False                 False   \n",
       "9176                 False              False                 False   \n",
       "9177                 False              False                 False   \n",
       "9178                 False              False                 False   \n",
       "\n",
       "      Data Science  Troubleshooting skills  Graphics Designing   Role  \n",
       "0            False                   False               False  False  \n",
       "1            False                   False               False  False  \n",
       "2            False                   False               False  False  \n",
       "3            False                   False               False  False  \n",
       "4            False                   False               False  False  \n",
       "...            ...                     ...                 ...    ...  \n",
       "9174         False                   False               False  False  \n",
       "9175         False                   False               False  False  \n",
       "9176         False                   False               False  False  \n",
       "9177         False                   False               False  False  \n",
       "9178         False                   False               False  False  \n",
       "\n",
       "[9179 rows x 18 columns]"
      ]
     },
     "execution_count": 22,
     "metadata": {},
     "output_type": "execute_result"
    }
   ],
   "source": [
    "df.isnull()"
   ]
  },
  {
   "cell_type": "code",
   "execution_count": 23,
   "metadata": {},
   "outputs": [
    {
     "name": "stdout",
     "output_type": "stream",
     "text": [
      "    Database Fundamentals Computer Architecture Distributed Computing Systems  \\\n",
      "0            Professional        Not Interested                Not Interested   \n",
      "1            Professional                  Poor                Not Interested   \n",
      "2            Professional              Beginner                Not Interested   \n",
      "3            Professional               Average                Not Interested   \n",
      "4            Professional          Intermediate                Not Interested   \n",
      "..                    ...                   ...                           ...   \n",
      "535          Professional             Excellent                     Excellent   \n",
      "536          Professional             Excellent                     Excellent   \n",
      "537          Professional             Excellent                     Excellent   \n",
      "538          Professional             Excellent                     Excellent   \n",
      "539          Professional             Excellent                     Excellent   \n",
      "\n",
      "     Cyber Security      Networking Software Development Programming Skills  \\\n",
      "0    Not Interested  Not Interested       Not Interested     Not Interested   \n",
      "1    Not Interested  Not Interested       Not Interested     Not Interested   \n",
      "2    Not Interested  Not Interested       Not Interested     Not Interested   \n",
      "3    Not Interested  Not Interested       Not Interested     Not Interested   \n",
      "4    Not Interested  Not Interested       Not Interested     Not Interested   \n",
      "..              ...             ...                  ...                ...   \n",
      "535       Excellent       Excellent            Excellent          Excellent   \n",
      "536       Excellent       Excellent            Excellent          Excellent   \n",
      "537       Excellent       Excellent            Excellent          Excellent   \n",
      "538       Excellent       Excellent            Excellent          Excellent   \n",
      "539       Excellent       Excellent            Excellent          Excellent   \n",
      "\n",
      "    Project Management Computer Forensics Fundamentals  \\\n",
      "0       Not Interested                  Not Interested   \n",
      "1       Not Interested                  Not Interested   \n",
      "2       Not Interested                  Not Interested   \n",
      "3       Not Interested                  Not Interested   \n",
      "4       Not Interested                  Not Interested   \n",
      "..                 ...                             ...   \n",
      "535          Excellent                       Excellent   \n",
      "536          Excellent                       Excellent   \n",
      "537          Excellent                       Excellent   \n",
      "538          Excellent                       Excellent   \n",
      "539          Excellent                       Excellent   \n",
      "\n",
      "    Technical Communication           AI ML Software Engineering  \\\n",
      "0            Not Interested  Not Interested       Not Interested   \n",
      "1            Not Interested  Not Interested       Not Interested   \n",
      "2            Not Interested  Not Interested       Not Interested   \n",
      "3            Not Interested  Not Interested       Not Interested   \n",
      "4            Not Interested  Not Interested       Not Interested   \n",
      "..                      ...             ...                  ...   \n",
      "535               Excellent       Excellent            Excellent   \n",
      "536               Excellent       Excellent            Excellent   \n",
      "537               Excellent       Excellent            Excellent   \n",
      "538               Excellent       Excellent            Excellent   \n",
      "539               Excellent       Excellent            Excellent   \n",
      "\n",
      "    Business Analysis Communication skills    Data Science  \\\n",
      "0      Not Interested       Not Interested  Not Interested   \n",
      "1      Not Interested       Not Interested  Not Interested   \n",
      "2      Not Interested       Not Interested  Not Interested   \n",
      "3      Not Interested       Not Interested  Not Interested   \n",
      "4      Not Interested       Not Interested  Not Interested   \n",
      "..                ...                  ...             ...   \n",
      "535         Excellent            Excellent       Excellent   \n",
      "536         Excellent            Excellent       Excellent   \n",
      "537         Excellent            Excellent       Excellent   \n",
      "538         Excellent            Excellent       Excellent   \n",
      "539         Excellent            Excellent       Excellent   \n",
      "\n",
      "    Troubleshooting skills Graphics Designing                    Role  \n",
      "0           Not Interested     Not Interested  Database Administrator  \n",
      "1           Not Interested     Not Interested  Database Administrator  \n",
      "2           Not Interested     Not Interested  Database Administrator  \n",
      "3           Not Interested     Not Interested  Database Administrator  \n",
      "4           Not Interested     Not Interested  Database Administrator  \n",
      "..                     ...                ...                     ...  \n",
      "535                   Poor               Poor  Database Administrator  \n",
      "536               Beginner           Beginner  Database Administrator  \n",
      "537                Average            Average  Database Administrator  \n",
      "538           Intermediate       Intermediate  Database Administrator  \n",
      "539              Excellent          Excellent  Database Administrator  \n",
      "\n",
      "[540 rows x 18 columns]\n"
     ]
    }
   ],
   "source": [
    "df1 = df[df['Role'] == \"Database Administrator\"]\n",
    "print(df1)"
   ]
  },
  {
   "cell_type": "code",
   "execution_count": 44,
   "metadata": {},
   "outputs": [
    {
     "name": "stdout",
     "output_type": "stream",
     "text": [
      "     Database Fundamentals Computer Architecture  \\\n",
      "540         Not Interested          Professional   \n",
      "541         Not Interested          Professional   \n",
      "542         Not Interested          Professional   \n",
      "543         Not Interested          Professional   \n",
      "544         Not Interested          Professional   \n",
      "...                    ...                   ...   \n",
      "1075                  Poor          Professional   \n",
      "1076              Beginner          Professional   \n",
      "1077               Average          Professional   \n",
      "1078          Intermediate          Professional   \n",
      "1079             Excellent          Professional   \n",
      "\n",
      "     Distributed Computing Systems  Cyber Security      Networking  \\\n",
      "540                 Not Interested  Not Interested  Not Interested   \n",
      "541                           Poor  Not Interested  Not Interested   \n",
      "542                       Beginner  Not Interested  Not Interested   \n",
      "543                        Average  Not Interested  Not Interested   \n",
      "544                   Intermediate  Not Interested  Not Interested   \n",
      "...                            ...             ...             ...   \n",
      "1075                     Excellent       Excellent       Excellent   \n",
      "1076                     Excellent       Excellent       Excellent   \n",
      "1077                     Excellent       Excellent       Excellent   \n",
      "1078                     Excellent       Excellent       Excellent   \n",
      "1079                     Excellent       Excellent       Excellent   \n",
      "\n",
      "     Software Development Programming Skills Project Management  \\\n",
      "540        Not Interested     Not Interested     Not Interested   \n",
      "541        Not Interested     Not Interested     Not Interested   \n",
      "542        Not Interested     Not Interested     Not Interested   \n",
      "543        Not Interested     Not Interested     Not Interested   \n",
      "544        Not Interested     Not Interested     Not Interested   \n",
      "...                   ...                ...                ...   \n",
      "1075            Excellent          Excellent          Excellent   \n",
      "1076            Excellent          Excellent          Excellent   \n",
      "1077            Excellent          Excellent          Excellent   \n",
      "1078            Excellent          Excellent          Excellent   \n",
      "1079            Excellent          Excellent          Excellent   \n",
      "\n",
      "     Computer Forensics Fundamentals Technical Communication           AI ML  \\\n",
      "540                   Not Interested          Not Interested  Not Interested   \n",
      "541                   Not Interested          Not Interested  Not Interested   \n",
      "542                   Not Interested          Not Interested  Not Interested   \n",
      "543                   Not Interested          Not Interested  Not Interested   \n",
      "544                   Not Interested          Not Interested  Not Interested   \n",
      "...                              ...                     ...             ...   \n",
      "1075                       Excellent               Excellent       Excellent   \n",
      "1076                       Excellent               Excellent       Excellent   \n",
      "1077                       Excellent               Excellent       Excellent   \n",
      "1078                       Excellent               Excellent       Excellent   \n",
      "1079                       Excellent               Excellent       Excellent   \n",
      "\n",
      "     Software Engineering Business Analysis Communication skills  \\\n",
      "540        Not Interested    Not Interested       Not Interested   \n",
      "541        Not Interested    Not Interested       Not Interested   \n",
      "542        Not Interested    Not Interested       Not Interested   \n",
      "543        Not Interested    Not Interested       Not Interested   \n",
      "544        Not Interested    Not Interested       Not Interested   \n",
      "...                   ...               ...                  ...   \n",
      "1075            Excellent         Excellent            Excellent   \n",
      "1076            Excellent         Excellent            Excellent   \n",
      "1077            Excellent         Excellent            Excellent   \n",
      "1078            Excellent         Excellent            Excellent   \n",
      "1079            Excellent         Excellent            Excellent   \n",
      "\n",
      "        Data Science Troubleshooting skills Graphics Designing  \\\n",
      "540   Not Interested         Not Interested     Not Interested   \n",
      "541   Not Interested         Not Interested     Not Interested   \n",
      "542   Not Interested         Not Interested     Not Interested   \n",
      "543   Not Interested         Not Interested     Not Interested   \n",
      "544   Not Interested         Not Interested     Not Interested   \n",
      "...              ...                    ...                ...   \n",
      "1075       Excellent              Excellent          Excellent   \n",
      "1076       Excellent              Excellent          Excellent   \n",
      "1077       Excellent              Excellent          Excellent   \n",
      "1078       Excellent              Excellent          Excellent   \n",
      "1079       Excellent              Excellent          Excellent   \n",
      "\n",
      "                   Role  \n",
      "540   Hardware Engineer  \n",
      "541   Hardware Engineer  \n",
      "542   Hardware Engineer  \n",
      "543   Hardware Engineer  \n",
      "544   Hardware Engineer  \n",
      "...                 ...  \n",
      "1075  Hardware Engineer  \n",
      "1076  Hardware Engineer  \n",
      "1077  Hardware Engineer  \n",
      "1078  Hardware Engineer  \n",
      "1079  Hardware Engineer  \n",
      "\n",
      "[540 rows x 18 columns]\n"
     ]
    }
   ],
   "source": [
    "df2 = df[df['Role'] == \"Hardware Engineer\"]\n",
    "print(df2)"
   ]
  },
  {
   "cell_type": "code",
   "execution_count": 25,
   "metadata": {},
   "outputs": [
    {
     "data": {
      "text/plain": [
       "Not Interested    90\n",
       "Poor              90\n",
       "Beginner          90\n",
       "Average           90\n",
       "Intermediate      90\n",
       "Excellent         90\n",
       "Name: Cyber Security, dtype: int64"
      ]
     },
     "execution_count": 25,
     "metadata": {},
     "output_type": "execute_result"
    }
   ],
   "source": [
    "df1['Cyber Security'].value_counts()"
   ]
  },
  {
   "cell_type": "code",
   "execution_count": 45,
   "metadata": {},
   "outputs": [
    {
     "data": {
      "text/plain": [
       "Not Interested    90\n",
       "Poor              90\n",
       "Beginner          90\n",
       "Average           90\n",
       "Intermediate      90\n",
       "Excellent         90\n",
       "Name: Cyber Security, dtype: int64"
      ]
     },
     "execution_count": 45,
     "metadata": {},
     "output_type": "execute_result"
    }
   ],
   "source": [
    "df2['Cyber Security'].value_counts()"
   ]
  },
  {
   "cell_type": "code",
   "execution_count": 26,
   "metadata": {},
   "outputs": [
    {
     "data": {
      "text/plain": [
       "Not Interested    1440\n",
       "Poor              1440\n",
       "Beginner          1440\n",
       "Average           1440\n",
       "Intermediate      1440\n",
       "Excellent         1439\n",
       "Professional       540\n",
       "Name: Database Fundamentals, dtype: int64"
      ]
     },
     "execution_count": 26,
     "metadata": {},
     "output_type": "execute_result"
    }
   ],
   "source": [
    "df['Database Fundamentals'].value_counts()"
   ]
  },
  {
   "cell_type": "code",
   "execution_count": 27,
   "metadata": {},
   "outputs": [
    {
     "data": {
      "text/plain": [
       "Not Interested    1440\n",
       "Poor              1440\n",
       "Beginner          1440\n",
       "Average           1440\n",
       "Intermediate      1440\n",
       "Excellent         1439\n",
       "Professional       540\n",
       "Name: Computer Architecture, dtype: int64"
      ]
     },
     "execution_count": 27,
     "metadata": {},
     "output_type": "execute_result"
    }
   ],
   "source": [
    "df['Computer Architecture'].value_counts()"
   ]
  },
  {
   "cell_type": "code",
   "execution_count": 28,
   "metadata": {},
   "outputs": [
    {
     "data": {
      "text/plain": [
       "Not Interested    1440\n",
       "Poor              1440\n",
       "Beginner          1440\n",
       "Average           1440\n",
       "Intermediate      1440\n",
       "Excellent         1439\n",
       "Professional       540\n",
       "Name: Distributed Computing Systems, dtype: int64"
      ]
     },
     "execution_count": 28,
     "metadata": {},
     "output_type": "execute_result"
    }
   ],
   "source": [
    "df['Distributed Computing Systems'].value_counts()"
   ]
  },
  {
   "cell_type": "code",
   "execution_count": 29,
   "metadata": {},
   "outputs": [
    {
     "data": {
      "text/plain": [
       "Not Interested    1440\n",
       "Poor              1440\n",
       "Beginner          1440\n",
       "Average           1440\n",
       "Intermediate      1440\n",
       "Excellent         1439\n",
       "Professional       540\n",
       "Name: Cyber Security, dtype: int64"
      ]
     },
     "execution_count": 29,
     "metadata": {},
     "output_type": "execute_result"
    }
   ],
   "source": [
    "df['Cyber Security'].value_counts()"
   ]
  },
  {
   "cell_type": "code",
   "execution_count": 30,
   "metadata": {},
   "outputs": [
    {
     "data": {
      "text/plain": [
       "Not Interested    1440\n",
       "Poor              1440\n",
       "Beginner          1440\n",
       "Average           1440\n",
       "Intermediate      1440\n",
       "Excellent         1439\n",
       "Professional       540\n",
       "Name: Networking, dtype: int64"
      ]
     },
     "execution_count": 30,
     "metadata": {},
     "output_type": "execute_result"
    }
   ],
   "source": [
    "df['Networking'].value_counts()"
   ]
  },
  {
   "cell_type": "code",
   "execution_count": 31,
   "metadata": {},
   "outputs": [
    {
     "data": {
      "text/plain": [
       "Not Interested    1440\n",
       "Poor              1440\n",
       "Beginner          1440\n",
       "Average           1440\n",
       "Intermediate      1440\n",
       "Excellent         1439\n",
       "Professional       540\n",
       "Name: Software Development, dtype: int64"
      ]
     },
     "execution_count": 31,
     "metadata": {},
     "output_type": "execute_result"
    }
   ],
   "source": [
    "df['Software Development'].value_counts()"
   ]
  },
  {
   "cell_type": "code",
   "execution_count": 32,
   "metadata": {},
   "outputs": [
    {
     "data": {
      "text/plain": [
       "Not Interested    1440\n",
       "Poor              1440\n",
       "Beginner          1440\n",
       "Average           1440\n",
       "Intermediate      1440\n",
       "Excellent         1439\n",
       "Professional       540\n",
       "Name: Programming Skills, dtype: int64"
      ]
     },
     "execution_count": 32,
     "metadata": {},
     "output_type": "execute_result"
    }
   ],
   "source": [
    "df['Programming Skills'].value_counts()"
   ]
  },
  {
   "cell_type": "code",
   "execution_count": 33,
   "metadata": {},
   "outputs": [
    {
     "data": {
      "text/plain": [
       "Not Interested    1440\n",
       "Poor              1440\n",
       "Beginner          1440\n",
       "Average           1440\n",
       "Intermediate      1440\n",
       "Excellent         1439\n",
       "Professional       540\n",
       "Name: Project Management, dtype: int64"
      ]
     },
     "execution_count": 33,
     "metadata": {},
     "output_type": "execute_result"
    }
   ],
   "source": [
    "df['Project Management'].value_counts()"
   ]
  },
  {
   "cell_type": "code",
   "execution_count": 34,
   "metadata": {},
   "outputs": [
    {
     "data": {
      "text/plain": [
       "Not Interested    1440\n",
       "Poor              1440\n",
       "Beginner          1440\n",
       "Average           1440\n",
       "Intermediate      1440\n",
       "Excellent         1439\n",
       "Professional       540\n",
       "Name: Distributed Computing Systems, dtype: int64"
      ]
     },
     "execution_count": 34,
     "metadata": {},
     "output_type": "execute_result"
    }
   ],
   "source": [
    "df['Distributed Computing Systems'].value_counts()"
   ]
  },
  {
   "cell_type": "code",
   "execution_count": 35,
   "metadata": {},
   "outputs": [
    {
     "data": {
      "text/plain": [
       "Not Interested    1440\n",
       "Poor              1440\n",
       "Beginner          1440\n",
       "Average           1440\n",
       "Intermediate      1440\n",
       "Excellent         1439\n",
       "Professional       540\n",
       "Name: Distributed Computing Systems, dtype: int64"
      ]
     },
     "execution_count": 35,
     "metadata": {},
     "output_type": "execute_result"
    }
   ],
   "source": [
    "df['Distributed Computing Systems'].value_counts()"
   ]
  },
  {
   "cell_type": "code",
   "execution_count": 36,
   "metadata": {},
   "outputs": [
    {
     "data": {
      "text/plain": [
       "Not Interested    1440\n",
       "Poor              1440\n",
       "Beginner          1440\n",
       "Average           1440\n",
       "Intermediate      1440\n",
       "Excellent         1439\n",
       "Professional       540\n",
       "Name: Distributed Computing Systems, dtype: int64"
      ]
     },
     "execution_count": 36,
     "metadata": {},
     "output_type": "execute_result"
    }
   ],
   "source": [
    "df['Distributed Computing Systems'].value_counts()"
   ]
  },
  {
   "cell_type": "code",
   "execution_count": 37,
   "metadata": {},
   "outputs": [
    {
     "data": {
      "text/plain": [
       "Not Interested    1440\n",
       "Poor              1440\n",
       "Beginner          1440\n",
       "Average           1440\n",
       "Intermediate      1440\n",
       "Excellent         1439\n",
       "Professional       540\n",
       "Name: Distributed Computing Systems, dtype: int64"
      ]
     },
     "execution_count": 37,
     "metadata": {},
     "output_type": "execute_result"
    }
   ],
   "source": [
    "df['Distributed Computing Systems'].value_counts()"
   ]
  },
  {
   "cell_type": "code",
   "execution_count": 38,
   "metadata": {},
   "outputs": [
    {
     "data": {
      "text/plain": [
       "Not Interested    1440\n",
       "Poor              1440\n",
       "Beginner          1440\n",
       "Average           1440\n",
       "Intermediate      1440\n",
       "Excellent         1439\n",
       "Professional       540\n",
       "Name: Distributed Computing Systems, dtype: int64"
      ]
     },
     "execution_count": 38,
     "metadata": {},
     "output_type": "execute_result"
    }
   ],
   "source": [
    "df['Distributed Computing Systems'].value_counts()"
   ]
  },
  {
   "cell_type": "code",
   "execution_count": 39,
   "metadata": {},
   "outputs": [
    {
     "data": {
      "text/plain": [
       "Not Interested    1440\n",
       "Poor              1440\n",
       "Beginner          1440\n",
       "Average           1440\n",
       "Intermediate      1440\n",
       "Excellent         1439\n",
       "Professional       540\n",
       "Name: Distributed Computing Systems, dtype: int64"
      ]
     },
     "execution_count": 39,
     "metadata": {},
     "output_type": "execute_result"
    }
   ],
   "source": [
    "df['Distributed Computing Systems'].value_counts()"
   ]
  },
  {
   "cell_type": "code",
   "execution_count": 40,
   "metadata": {},
   "outputs": [
    {
     "data": {
      "text/plain": [
       "Not Interested    1440\n",
       "Poor              1440\n",
       "Beginner          1440\n",
       "Average           1440\n",
       "Intermediate      1440\n",
       "Excellent         1439\n",
       "Professional       540\n",
       "Name: Distributed Computing Systems, dtype: int64"
      ]
     },
     "execution_count": 40,
     "metadata": {},
     "output_type": "execute_result"
    }
   ],
   "source": [
    "df['Distributed Computing Systems'].value_counts()"
   ]
  },
  {
   "cell_type": "code",
   "execution_count": 41,
   "metadata": {},
   "outputs": [
    {
     "data": {
      "text/plain": [
       "Not Interested    1440\n",
       "Poor              1440\n",
       "Beginner          1440\n",
       "Average           1440\n",
       "Intermediate      1440\n",
       "Excellent         1439\n",
       "Professional       540\n",
       "Name: Distributed Computing Systems, dtype: int64"
      ]
     },
     "execution_count": 41,
     "metadata": {},
     "output_type": "execute_result"
    }
   ],
   "source": [
    "df['Distributed Computing Systems'].value_counts()"
   ]
  },
  {
   "cell_type": "code",
   "execution_count": 42,
   "metadata": {},
   "outputs": [
    {
     "data": {
      "text/plain": [
       "Not Interested    1440\n",
       "Poor              1440\n",
       "Beginner          1440\n",
       "Average           1440\n",
       "Intermediate      1440\n",
       "Excellent         1439\n",
       "Professional       540\n",
       "Name: Distributed Computing Systems, dtype: int64"
      ]
     },
     "execution_count": 42,
     "metadata": {},
     "output_type": "execute_result"
    }
   ],
   "source": [
    "df['Distributed Computing Systems'].value_counts()"
   ]
  },
  {
   "cell_type": "code",
   "execution_count": 43,
   "metadata": {},
   "outputs": [
    {
     "data": {
      "text/plain": [
       "Not Interested    1440\n",
       "Poor              1440\n",
       "Beginner          1440\n",
       "Average           1440\n",
       "Intermediate      1440\n",
       "Excellent         1439\n",
       "Professional       540\n",
       "Name: Distributed Computing Systems, dtype: int64"
      ]
     },
     "execution_count": 43,
     "metadata": {},
     "output_type": "execute_result"
    }
   ],
   "source": [
    "df['Distributed Computing Systems'].value_counts()"
   ]
  }
 ],
 "metadata": {
  "kernelspec": {
   "display_name": "Python 3.10.7 64-bit",
   "language": "python",
   "name": "python3"
  },
  "language_info": {
   "codemirror_mode": {
    "name": "ipython",
    "version": 3
   },
   "file_extension": ".py",
   "mimetype": "text/x-python",
   "name": "python",
   "nbconvert_exporter": "python",
   "pygments_lexer": "ipython3",
   "version": "3.10.7"
  },
  "orig_nbformat": 4,
  "vscode": {
   "interpreter": {
    "hash": "aee8b7b246df8f9039afb4144a1f6fd8d2ca17a180786b69acc140d282b71a49"
   }
  }
 },
 "nbformat": 4,
 "nbformat_minor": 2
}
