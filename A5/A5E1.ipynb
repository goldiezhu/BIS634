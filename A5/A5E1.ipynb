{
  "nbformat": 4,
  "nbformat_minor": 0,
  "metadata": {
    "colab": {
      "provenance": []
    },
    "kernelspec": {
      "name": "python3",
      "display_name": "Python 3"
    },
    "language_info": {
      "name": "python"
    }
  },
  "cells": [
    {
      "cell_type": "code",
      "source": [
        "import numpy as np\n",
        "import matplotlib.pyplot as plt\n",
        "\n",
        "def root(node_list):\n",
        "  max_x = max(sublist[0] for sublist in node_list)\n",
        "  max_y = max(sublist[1] for sublist in node_list)\n",
        "  min_x = min(sublist[0] for sublist in node_list)\n",
        "  min_y = min(sublist[1] for sublist in node_list)\n",
        "  if max_x % 2 == 1: \n",
        "    max_x += 1\n",
        "  if max_y % 2 == 1: \n",
        "    max_y += 1\n",
        "  w = max_x - min_x\n",
        "  h = max_y - min_y\n",
        "  return min_x, min_y, max_x, max_y, w, h\n",
        "\n",
        "class QuadTree():\n",
        "    def __init__(self, min_x, min_y, max_x, max_y, w, h, k, node_list):\n",
        "        x, y, knnclass = (sublist[0] for sublist in node_list), (sublist[1] for sublist in node_list), (sublist[2] for sublist in node_list) \n",
        "        self.x0 = min_x\n",
        "        self.x1 = max_x\n",
        "        self.y0 = min_y\n",
        "        self.y1 = max_y\n",
        "        self.width = w\n",
        "        self.height = h\n",
        "        k = len(node_list)\n",
        "        self.children = []\n",
        "\n",
        "    def divide(k, w, h, max_x, max_y, min_x, min_y):\n",
        "        if k > 2:\n",
        "          mid_x_ = (w / 2) + min_x\n",
        "          mid_y_ = (h / 2) + min_y\n",
        "          \n",
        "          p = contains(min_x, min_y, mid_x_, mid_y_)\n",
        "          #x1 = Node(min_x, min_y, mid_x_, mid_y_, p) #reset four corners of box\n",
        "          divide(x1, k)\n",
        "\n",
        "          p = contains(min_x, min_y+mid_y_, mid_x_, mid_y_)\n",
        "          #x2 = Node(min_x, min_y+mid_y_, mid_x_, mid_y_, p)\n",
        "          divide(x2, k)\n",
        "\n",
        "          p = contains(min_x+mid_x_, min_y, mid_x_, mid_y_)\n",
        "          #x3 = Node(min_x + mid_x_, min_y, mid_x_, mid_y_, p)\n",
        "          divide(x3, k)\n",
        "\n",
        "          p = contains(min_x+mid_x_, min_y+mid_y_, mid_x_, mid_y_)\n",
        "          #x4 = Node(min_x+mid_x_, min_y+mid_y_, mid_x_, mid_y_, p)\n",
        "          divide(x4, k)\n",
        "\n",
        "\n",
        "\n",
        "def contains(x, y, w, h, node_list):\n",
        "   pts = []\n",
        "   for point in node_list:\n",
        "       if point.x >= x and point.x <= x+w and point.y>=y and point.y<=y+h:\n",
        "           pts.append(point)\n",
        "   return pts\n",
        "\n",
        "\n",
        "#(x, y; c)"
      ],
      "metadata": {
        "colab": {
          "base_uri": "https://localhost:8080/"
        },
        "id": "2pyQ5Gowogwu",
        "outputId": "452885a7-3df1-49a2-febe-489d319586c9"
      },
      "execution_count": null,
      "outputs": [
        {
          "output_type": "stream",
          "name": "stdout",
          "text": [
            "6 6\n"
          ]
        }
      ]
    },
    {
      "cell_type": "code",
      "execution_count": null,
      "metadata": {
        "colab": {
          "base_uri": "https://localhost:8080/"
        },
        "id": "R3_4NHRnoJXE",
        "outputId": "7f910ed0-dfb2-4031-f299-a8d47acf903a"
      },
      "outputs": [
        {
          "output_type": "stream",
          "name": "stdout",
          "text": [
            "Looking in indexes: https://pypi.org/simple, https://us-python.pkg.dev/colab-wheels/public/simple/\n",
            "Requirement already satisfied: openpyxl in /usr/local/lib/python3.8/dist-packages (3.0.10)\n",
            "Requirement already satisfied: et-xmlfile in /usr/local/lib/python3.8/dist-packages (from openpyxl) (1.1.0)\n"
          ]
        }
      ],
      "source": [
        "!pip install openpyxl"
      ]
    },
    {
      "cell_type": "code",
      "source": [
        "import pandas as pd\n",
        "\n",
        "data = pd.read_excel('Rice_Cammeo_Osmancik.xlsx', engine='openpyxl')\n",
        "print(data)"
      ],
      "metadata": {
        "colab": {
          "base_uri": "https://localhost:8080/"
        },
        "id": "3wD8r2FjoO3z",
        "outputId": "975ceb0d-4e62-4dc8-f21d-8d1c987f0753"
      },
      "execution_count": null,
      "outputs": [
        {
          "output_type": "stream",
          "name": "stdout",
          "text": [
            "       Area   Perimeter  Major_Axis_Length  Minor_Axis_Length  Eccentricity  \\\n",
            "0     15231  525.578979         229.749878          85.093788      0.928882   \n",
            "1     14656  494.311005         206.020065          91.730972      0.895405   \n",
            "2     14634  501.122009         214.106781          87.768288      0.912118   \n",
            "3     13176  458.342987         193.337387          87.448395      0.891861   \n",
            "4     14688  507.166992         211.743378          89.312454      0.906691   \n",
            "...     ...         ...                ...                ...           ...   \n",
            "3805  11441  415.858002         170.486771          85.756592      0.864280   \n",
            "3806  11625  421.390015         167.714798          89.462570      0.845850   \n",
            "3807  12437  442.498993         183.572922          86.801979      0.881144   \n",
            "3808   9882  392.296997         161.193985          78.210480      0.874406   \n",
            "3809  11434  404.709991         161.079269          90.868195      0.825692   \n",
            "\n",
            "      Convex_Area    Extent     Class  \n",
            "0           15617  0.572896    Cammeo  \n",
            "1           15072  0.615436    Cammeo  \n",
            "2           14954  0.693259    Cammeo  \n",
            "3           13368  0.640669    Cammeo  \n",
            "4           15262  0.646024    Cammeo  \n",
            "...           ...       ...       ...  \n",
            "3805        11628  0.681012  Osmancik  \n",
            "3806        11904  0.694279  Osmancik  \n",
            "3807        12645  0.626739  Osmancik  \n",
            "3808        10097  0.659064  Osmancik  \n",
            "3809        11591  0.802949  Osmancik  \n",
            "\n",
            "[3810 rows x 8 columns]\n"
          ]
        }
      ]
    },
    {
      "cell_type": "code",
      "source": [
        "from sklearn.preprocessing import StandardScaler\n",
        "from sklearn import decomposition\n",
        "from sklearn.model_selection import train_test_split\n",
        "\n",
        "quant = data.drop(['Class'], axis=1)\n",
        "qual = data['Class']\n",
        "\n",
        "X_train, X_test, y_train, y_test = train_test_split(quant, qual, train_size=0.8)\n",
        "\n",
        "#normalize\n",
        "object = StandardScaler()\n",
        "std_xtrain = object.fit_transform(X_train)\n",
        "std_xtest = object.fit_transform(X_test)\n",
        "\n",
        "#reduce data to two dimensions\n",
        "pca = decomposition.PCA(n_components=2)\n",
        "\n",
        "std_xtrain = pd.DataFrame(std_xtrain, columns = X_train.columns)\n",
        "std_xtest = pd.DataFrame(std_xtest, columns = X_test.columns)\n",
        "\n",
        "X_train_reduced = pca.fit_transform(std_xtrain)\n",
        "xtrain_pc0 = X_train_reduced[:, 0]\n",
        "xtrain_pc1 = X_train_reduced[:, 1]\n",
        "train_data = []\n",
        "\n",
        "X_test_reduced = pca.fit_transform(std_xtest)\n",
        "xtest_pc0 = X_test_reduced[:, 0]\n",
        "xtest_pc1 = X_test_reduced[:, 1]\n",
        "test_data = []\n",
        "\n",
        "train_data = zip(xtrain_pc0, xtrain_pc1, y_train)\n",
        "test_data = zip(xtest_pc0, xtest_pc1, y_test)\n"
      ],
      "metadata": {
        "id": "63JnaKwXoTSm"
      },
      "execution_count": null,
      "outputs": []
    },
    {
      "cell_type": "code",
      "source": [
        "dataDF = pd.DataFrame(train_data)\n",
        "cammeo = dataDF[dataDF[2] == 'Cammeo']\n",
        "osmancik = dataDF[dataDF[2] == 'Osmancik']\n",
        "plt.scatter(cammeo[0], cammeo[1], label='Cammeo')\n",
        "plt.scatter(osmancik[0], osmancik[1], label='Osmancik')\n",
        "plt.title('PC0 vs. PC1 for Osmancik and Cammeo Rice')\n",
        "plt.xlabel('PC0')\n",
        "plt.ylabel('PC1')\n",
        "plt.legend()\n",
        "plt.show()"
      ],
      "metadata": {
        "colab": {
          "base_uri": "https://localhost:8080/",
          "height": 294
        },
        "id": "vkqWyl8tiW2D",
        "outputId": "b695f0f4-70a5-4f28-e0aa-4ecde0879b47"
      },
      "execution_count": null,
      "outputs": [
        {
          "output_type": "display_data",
          "data": {
            "text/plain": [
              "<Figure size 432x288 with 1 Axes>"
            ],
            "image/png": "[encoded data removed]"
          },
          "metadata": {
            "needs_background": "light"
          }
        }
      ]
    },
    {
      "cell_type": "code",
      "source": [],
      "metadata": {
        "id": "sGllPhKzPIQB"
      },
      "execution_count": null,
      "outputs": []
    }
  ]
}