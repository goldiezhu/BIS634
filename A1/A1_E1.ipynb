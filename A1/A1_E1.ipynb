{
  "nbformat": 4,
  "nbformat_minor": 0,
  "metadata": {
    "colab": {
      "provenance": [],
      "authorship_tag": "ABX9TyMEnwH2B4XFzUD8cu9FRt7U",
      "include_colab_link": true
    },
    "kernelspec": {
      "name": "python3",
      "display_name": "Python 3"
    },
    "language_info": {
      "name": "python"
    }
  },
  "cells": [
    {
      "cell_type": "markdown",
      "metadata": {
        "id": "view-in-github",
        "colab_type": "text"
      },
      "source": [
        "<a href=\"https://colab.research.google.com/github/goldiezhu/BIS634/blob/main/E1.ipynb\" target=\"_parent\"><img src=\"https://colab.research.google.com/assets/colab-badge.svg\" alt=\"Open In Colab\"/></a>"
      ]
    },
    {
      "cell_type": "code",
      "execution_count": 19,
      "metadata": {
        "id": "krHBK5TfQERj"
      },
      "outputs": [],
      "source": [
        "def temp_tester(temperature):\n",
        "  def compare(observed):\n",
        "    if abs(observed - temperature) <= 1 :\n",
        "      print('true')\n",
        "      return True\n",
        "    else:\n",
        "      print('false')\n",
        "      return False\n",
        "  return compare"
      ]
    },
    {
      "cell_type": "code",
      "source": [
        "human_tester = temp_tester(37)\n",
        "chicken_tester = temp_tester(41.1)\n",
        "\n",
        "chicken_tester(42)\n",
        "human_tester(42)\n",
        "chicken_tester(43)\n",
        "human_tester(35)\n",
        "human_tester(98.6) "
      ],
      "metadata": {
        "colab": {
          "base_uri": "https://localhost:8080/"
        },
        "id": "BrSb05_KqcvW",
        "outputId": "4bfd7782-6b98-46fd-d31e-af9e8be2aa65"
      },
      "execution_count": 20,
      "outputs": [
        {
          "output_type": "stream",
          "name": "stdout",
          "text": [
            "true\n",
            "false\n",
            "false\n",
            "false\n",
            "false\n"
          ]
        },
        {
          "output_type": "execute_result",
          "data": {
            "text/plain": [
              "False"
            ]
          },
          "metadata": {},
          "execution_count": 20
        }
      ]
    }
  ]
}
