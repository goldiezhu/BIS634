{
  "nbformat": 4,
  "nbformat_minor": 0,
  "metadata": {
    "colab": {
      "provenance": [],
      "authorship_tag": "ABX9TyPVvuECSaT9X7omPDCaP6xR",
      "include_colab_link": true
    },
    "kernelspec": {
      "name": "python3",
      "display_name": "Python 3"
    },
    "language_info": {
      "name": "python"
    }
  },
  "cells": [
    {
      "cell_type": "markdown",
      "metadata": {
        "id": "view-in-github",
        "colab_type": "text"
      },
      "source": [
        "<a href=\"https://colab.research.google.com/github/goldiezhu/BIS634/blob/main/A1/A1_E4.ipynb\" target=\"_parent\"><img src=\"https://colab.research.google.com/assets/colab-badge.svg\" alt=\"Open In Colab\"/></a>"
      ]
    },
    {
      "cell_type": "code",
      "execution_count": 6,
      "metadata": {
        "id": "pFOW4H4f8Jkg"
      },
      "outputs": [],
      "source": [
        "import xml.etree.ElementTree as ET\n",
        "from pprint import pprint as pp \n",
        "tree = ET.parse('./desc2022.xml')\n",
        "root = tree.getroot()"
      ]
    },
    {
      "cell_type": "code",
      "source": [
        "pp(root)"
      ],
      "metadata": {
        "colab": {
          "base_uri": "https://localhost:8080/"
        },
        "id": "BRbxGSq1Dy05",
        "outputId": "71396608-5f03-493f-82e7-1527a6a93ebc"
      },
      "execution_count": 7,
      "outputs": [
        {
          "output_type": "stream",
          "name": "stdout",
          "text": [
            "<Element 'DescriptorRecordSet' at 0x7f850d6750b0>\n"
          ]
        }
      ]
    },
    {
      "cell_type": "code",
      "source": [
        "root.tag"
      ],
      "metadata": {
        "colab": {
          "base_uri": "https://localhost:8080/",
          "height": 37
        },
        "id": "9s8Q4hjX1CVG",
        "outputId": "68ff1440-0aed-4df9-e1cf-3c9fb31cd5ff"
      },
      "execution_count": 8,
      "outputs": [
        {
          "output_type": "execute_result",
          "data": {
            "text/plain": [
              "'DescriptorRecordSet'"
            ],
            "application/vnd.google.colaboratory.intrinsic+json": {
              "type": "string"
            }
          },
          "metadata": {},
          "execution_count": 8
        }
      ]
    },
    {
      "cell_type": "code",
      "source": [
        "root.attrib"
      ],
      "metadata": {
        "colab": {
          "base_uri": "https://localhost:8080/"
        },
        "id": "ukPp1J-N1F-L",
        "outputId": "18adccf6-e803-4a0a-d5d8-c383320b7b5c"
      },
      "execution_count": 9,
      "outputs": [
        {
          "output_type": "execute_result",
          "data": {
            "text/plain": [
              "{'LanguageCode': 'eng'}"
            ]
          },
          "metadata": {},
          "execution_count": 9
        }
      ]
    },
    {
      "cell_type": "code",
      "source": [
        "qualifier1 = root[0]\n",
        "qualifier_xml = ET.tostring(qualifier1)\n",
        "print(qualifier_xml)"
      ],
      "metadata": {
        "colab": {
          "base_uri": "https://localhost:8080/"
        },
        "id": "08sGuzgsydaJ",
        "outputId": "5c63e6c3-00f2-4238-abee-12fd4affb920"
      },
      "execution_count": 10,
      "outputs": [
        {
          "output_type": "stream",
          "name": "stdout",
          "text": [
            "b'<DescriptorRecord DescriptorClass=\"1\">\\n  <DescriptorUI>D000001</DescriptorUI>\\n  <DescriptorName>\\n   <String>Calcimycin</String>\\n  </DescriptorName>\\n  <DateCreated>\\n   <Year>1974</Year>\\n   <Month>11</Month>\\n   <Day>19</Day>\\n  </DateCreated>\\n  <DateRevised>\\n   <Year>2016</Year>\\n   <Month>05</Month>\\n   <Day>27</Day>\\n  </DateRevised>\\n  <DateEstablished>\\n   <Year>1984</Year>\\n   <Month>01</Month>\\n   <Day>01</Day>\\n  </DateEstablished>\\n  <AllowableQualifiersList>\\n   <AllowableQualifier>\\n    <QualifierReferredTo>\\n     <QualifierUI>Q000302</QualifierUI>\\n      <QualifierName>\\n      <String>isolation &amp; purification</String>\\n      </QualifierName>\\n    </QualifierReferredTo>\\n    <Abbreviation>IP</Abbreviation>\\n   </AllowableQualifier>\\n   <AllowableQualifier>\\n    <QualifierReferredTo>\\n     <QualifierUI>Q000276</QualifierUI>\\n      <QualifierName>\\n      <String>immunology</String>\\n      </QualifierName>\\n    </QualifierReferredTo>\\n    <Abbreviation>IM</Abbreviation>\\n   </AllowableQualifier>\\n   <AllowableQualifier>\\n    <QualifierReferredTo>\\n     <QualifierUI>Q000493</QualifierUI>\\n      <QualifierName>\\n      <String>pharmacokinetics</String>\\n      </QualifierName>\\n    </QualifierReferredTo>\\n    <Abbreviation>PK</Abbreviation>\\n   </AllowableQualifier>\\n   <AllowableQualifier>\\n    <QualifierReferredTo>\\n     <QualifierUI>Q000096</QualifierUI>\\n      <QualifierName>\\n      <String>biosynthesis</String>\\n      </QualifierName>\\n    </QualifierReferredTo>\\n    <Abbreviation>BI</Abbreviation>\\n   </AllowableQualifier>\\n   <AllowableQualifier>\\n    <QualifierReferredTo>\\n     <QualifierUI>Q000627</QualifierUI>\\n      <QualifierName>\\n      <String>therapeutic use</String>\\n      </QualifierName>\\n    </QualifierReferredTo>\\n    <Abbreviation>TU</Abbreviation>\\n   </AllowableQualifier>\\n   <AllowableQualifier>\\n    <QualifierReferredTo>\\n     <QualifierUI>Q000819</QualifierUI>\\n      <QualifierName>\\n      <String>agonists</String>\\n      </QualifierName>\\n    </QualifierReferredTo>\\n    <Abbreviation>AG</Abbreviation>\\n   </AllowableQualifier>\\n   <AllowableQualifier>\\n    <QualifierReferredTo>\\n     <QualifierUI>Q000097</QualifierUI>\\n      <QualifierName>\\n      <String>blood</String>\\n      </QualifierName>\\n    </QualifierReferredTo>\\n    <Abbreviation>BL</Abbreviation>\\n   </AllowableQualifier>\\n   <AllowableQualifier>\\n    <QualifierReferredTo>\\n     <QualifierUI>Q000134</QualifierUI>\\n      <QualifierName>\\n      <String>cerebrospinal fluid</String>\\n      </QualifierName>\\n    </QualifierReferredTo>\\n    <Abbreviation>CF</Abbreviation>\\n   </AllowableQualifier>\\n   <AllowableQualifier>\\n    <QualifierReferredTo>\\n     <QualifierUI>Q000138</QualifierUI>\\n      <QualifierName>\\n      <String>chemical synthesis</String>\\n      </QualifierName>\\n    </QualifierReferredTo>\\n    <Abbreviation>CS</Abbreviation>\\n   </AllowableQualifier>\\n   <AllowableQualifier>\\n    <QualifierReferredTo>\\n     <QualifierUI>Q000737</QualifierUI>\\n      <QualifierName>\\n      <String>chemistry</String>\\n      </QualifierName>\\n    </QualifierReferredTo>\\n    <Abbreviation>CH</Abbreviation>\\n   </AllowableQualifier>\\n   <AllowableQualifier>\\n    <QualifierReferredTo>\\n     <QualifierUI>Q000652</QualifierUI>\\n      <QualifierName>\\n      <String>urine</String>\\n      </QualifierName>\\n    </QualifierReferredTo>\\n    <Abbreviation>UR</Abbreviation>\\n   </AllowableQualifier>\\n   <AllowableQualifier>\\n    <QualifierReferredTo>\\n     <QualifierUI>Q000528</QualifierUI>\\n      <QualifierName>\\n      <String>radiation effects</String>\\n      </QualifierName>\\n    </QualifierReferredTo>\\n    <Abbreviation>RE</Abbreviation>\\n   </AllowableQualifier>\\n   <AllowableQualifier>\\n    <QualifierReferredTo>\\n     <QualifierUI>Q000266</QualifierUI>\\n      <QualifierName>\\n      <String>history</String>\\n      </QualifierName>\\n    </QualifierReferredTo>\\n    <Abbreviation>HI</Abbreviation>\\n   </AllowableQualifier>\\n   <AllowableQualifier>\\n    <QualifierReferredTo>\\n     <QualifierUI>Q000032</QualifierUI>\\n      <QualifierName>\\n      <String>analysis</String>\\n      </QualifierName>\\n    </QualifierReferredTo>\\n    <Abbreviation>AN</Abbreviation>\\n   </AllowableQualifier>\\n   <AllowableQualifier>\\n    <QualifierReferredTo>\\n     <QualifierUI>Q000145</QualifierUI>\\n      <QualifierName>\\n      <String>classification</String>\\n      </QualifierName>\\n    </QualifierReferredTo>\\n    <Abbreviation>CL</Abbreviation>\\n   </AllowableQualifier>\\n   <AllowableQualifier>\\n    <QualifierReferredTo>\\n     <QualifierUI>Q000191</QualifierUI>\\n      <QualifierName>\\n      <String>economics</String>\\n      </QualifierName>\\n    </QualifierReferredTo>\\n    <Abbreviation>EC</Abbreviation>\\n   </AllowableQualifier>\\n   <AllowableQualifier>\\n    <QualifierReferredTo>\\n     <QualifierUI>Q000494</QualifierUI>\\n      <QualifierName>\\n      <String>pharmacology</String>\\n      </QualifierName>\\n    </QualifierReferredTo>\\n    <Abbreviation>PD</Abbreviation>\\n   </AllowableQualifier>\\n   <AllowableQualifier>\\n    <QualifierReferredTo>\\n     <QualifierUI>Q000592</QualifierUI>\\n      <QualifierName>\\n      <String>standards</String>\\n      </QualifierName>\\n    </QualifierReferredTo>\\n    <Abbreviation>ST</Abbreviation>\\n   </AllowableQualifier>\\n   <AllowableQualifier>\\n    <QualifierReferredTo>\\n     <QualifierUI>Q000008</QualifierUI>\\n      <QualifierName>\\n      <String>administration &amp; dosage</String>\\n      </QualifierName>\\n    </QualifierReferredTo>\\n    <Abbreviation>AD</Abbreviation>\\n   </AllowableQualifier>\\n   <AllowableQualifier>\\n    <QualifierReferredTo>\\n     <QualifierUI>Q000037</QualifierUI>\\n      <QualifierName>\\n      <String>antagonists &amp; inhibitors</String>\\n      </QualifierName>\\n    </QualifierReferredTo>\\n    <Abbreviation>AI</Abbreviation>\\n   </AllowableQualifier>\\n   <AllowableQualifier>\\n    <QualifierReferredTo>\\n     <QualifierUI>Q000031</QualifierUI>\\n      <QualifierName>\\n      <String>analogs &amp; derivatives</String>\\n      </QualifierName>\\n    </QualifierReferredTo>\\n    <Abbreviation>AA</Abbreviation>\\n   </AllowableQualifier>\\n   <AllowableQualifier>\\n    <QualifierReferredTo>\\n     <QualifierUI>Q000600</QualifierUI>\\n      <QualifierName>\\n      <String>supply &amp; distribution</String>\\n      </QualifierName>\\n    </QualifierReferredTo>\\n    <Abbreviation>SD</Abbreviation>\\n   </AllowableQualifier>\\n   <AllowableQualifier>\\n    <QualifierReferredTo>\\n     <QualifierUI>Q000506</QualifierUI>\\n      <QualifierName>\\n      <String>poisoning</String>\\n      </QualifierName>\\n    </QualifierReferredTo>\\n    <Abbreviation>PO</Abbreviation>\\n   </AllowableQualifier>\\n   <AllowableQualifier>\\n    <QualifierReferredTo>\\n     <QualifierUI>Q000009</QualifierUI>\\n      <QualifierName>\\n      <String>adverse effects</String>\\n      </QualifierName>\\n    </QualifierReferredTo>\\n    <Abbreviation>AE</Abbreviation>\\n   </AllowableQualifier>\\n   <AllowableQualifier>\\n    <QualifierReferredTo>\\n     <QualifierUI>Q000633</QualifierUI>\\n      <QualifierName>\\n      <String>toxicity</String>\\n      </QualifierName>\\n    </QualifierReferredTo>\\n    <Abbreviation>TO</Abbreviation>\\n   </AllowableQualifier>\\n   <AllowableQualifier>\\n    <QualifierReferredTo>\\n     <QualifierUI>Q000378</QualifierUI>\\n      <QualifierName>\\n      <String>metabolism</String>\\n      </QualifierName>\\n    </QualifierReferredTo>\\n    <Abbreviation>ME</Abbreviation>\\n   </AllowableQualifier>\\n  </AllowableQualifiersList>\\n  <HistoryNote>91(75); was A 23187 1975-90 (see under ANTIBIOTICS 1975-83)\\n  </HistoryNote>\\n  <OnlineNote>use CALCIMYCIN to search A 23187 1975-90\\n  </OnlineNote>\\n  <PublicMeSHNote>91; was A 23187 1975-90 (see under ANTIBIOTICS 1975-83)\\n  </PublicMeSHNote>\\n  <PreviousIndexingList>\\n   <PreviousIndexing>Antibiotics (1973-1974)</PreviousIndexing>\\n   <PreviousIndexing>Carboxylic Acids (1973-1974)</PreviousIndexing>\\n  </PreviousIndexingList>\\n    <PharmacologicalActionList>\\n     <PharmacologicalAction>\\n      <DescriptorReferredTo>\\n       <DescriptorUI>D000900</DescriptorUI>\\n        <DescriptorName>\\n         <String>Anti-Bacterial Agents</String>\\n        </DescriptorName>\\n      </DescriptorReferredTo>\\n     </PharmacologicalAction>\\n     <PharmacologicalAction>\\n      <DescriptorReferredTo>\\n       <DescriptorUI>D061207</DescriptorUI>\\n        <DescriptorName>\\n         <String>Calcium Ionophores</String>\\n        </DescriptorName>\\n      </DescriptorReferredTo>\\n     </PharmacologicalAction>\\n    </PharmacologicalActionList>\\n  <TreeNumberList>\\n   <TreeNumber>D03.633.100.221.173</TreeNumber>\\n  </TreeNumberList>\\n  <ConceptList>\\n   <Concept PreferredConceptYN=\"Y\">\\n    <ConceptUI>M0000001</ConceptUI>\\n    <ConceptName>\\n     <String>Calcimycin</String>\\n    </ConceptName>\\n    <CASN1Name>4-Benzoxazolecarboxylic acid, 5-(methylamino)-2-((3,9,11-trimethyl-8-(1-methyl-2-oxo-2-(1H-pyrrol-2-yl)ethyl)-1,7-dioxaspiro(5.5)undec-2-yl)methyl)-, (6S-(6alpha(2S*,3S*),8beta(R*),9beta,11alpha))-</CASN1Name>\\n    <RegistryNumber>37H9VM9WZL</RegistryNumber>\\n    <ScopeNote>An ionophorous, polyether antibiotic from Streptomyces chartreusensis. It binds and transports CALCIUM and other divalent cations across membranes and uncouples oxidative phosphorylation while inhibiting ATPase of rat liver mitochondria. The substance is used mostly as a biochemical tool to study the role of divalent cations in various biological systems.\\n    </ScopeNote>\\n    <RelatedRegistryNumberList>\\n     <RelatedRegistryNumber>52665-69-7 (Calcimycin)</RelatedRegistryNumber>\\n    </RelatedRegistryNumberList>\\n    <ConceptRelationList>\\n     <ConceptRelation RelationName=\"NRW\">\\n     <Concept1UI>M0000001</Concept1UI>\\n     <Concept2UI>M0353609</Concept2UI>\\n     </ConceptRelation>\\n    </ConceptRelationList>\\n    <TermList>\\n     <Term ConceptPreferredTermYN=\"Y\" IsPermutedTermYN=\"N\" LexicalTag=\"NON\" RecordPreferredTermYN=\"Y\">\\n      <TermUI>T000002</TermUI>\\n      <String>Calcimycin</String>\\n      <DateCreated>\\n       <Year>1999</Year>\\n       <Month>01</Month>\\n       <Day>01</Day>\\n      </DateCreated>\\n      <ThesaurusIDlist>\\n       <ThesaurusID>FDA SRS (2014)</ThesaurusID>\\n       <ThesaurusID>NLM (1975)</ThesaurusID>\\n      </ThesaurusIDlist>\\n     </Term>\\n    </TermList>\\n   </Concept>\\n   <Concept PreferredConceptYN=\"N\">\\n    <ConceptUI>M0353609</ConceptUI>\\n    <ConceptName>\\n     <String>A-23187</String>\\n    </ConceptName>\\n    <RegistryNumber>0</RegistryNumber>\\n    <ConceptRelationList>\\n     <ConceptRelation RelationName=\"NRW\">\\n     <Concept1UI>M0000001</Concept1UI>\\n     <Concept2UI>M0353609</Concept2UI>\\n     </ConceptRelation>\\n    </ConceptRelationList>\\n    <TermList>\\n     <Term ConceptPreferredTermYN=\"Y\" IsPermutedTermYN=\"N\" LexicalTag=\"LAB\" RecordPreferredTermYN=\"N\">\\n      <TermUI>T000001</TermUI>\\n      <String>A-23187</String>\\n      <DateCreated>\\n       <Year>1990</Year>\\n       <Month>03</Month>\\n       <Day>08</Day>\\n      </DateCreated>\\n      <ThesaurusIDlist>\\n       <ThesaurusID>NLM (1991)</ThesaurusID>\\n      </ThesaurusIDlist>\\n     </Term>\\n     <Term ConceptPreferredTermYN=\"N\" IsPermutedTermYN=\"Y\" LexicalTag=\"LAB\" RecordPreferredTermYN=\"N\">\\n      <TermUI>T000001</TermUI>\\n      <String>A 23187</String>\\n     </Term>\\n     <Term ConceptPreferredTermYN=\"N\" IsPermutedTermYN=\"N\" LexicalTag=\"LAB\" RecordPreferredTermYN=\"N\">\\n      <TermUI>T000004</TermUI>\\n      <String>A23187</String>\\n      <DateCreated>\\n       <Year>1974</Year>\\n       <Month>11</Month>\\n       <Day>11</Day>\\n      </DateCreated>\\n      <ThesaurusIDlist>\\n       <ThesaurusID>UNK (19XX)</ThesaurusID>\\n      </ThesaurusIDlist>\\n     </Term>\\n     <Term ConceptPreferredTermYN=\"N\" IsPermutedTermYN=\"N\" LexicalTag=\"NON\" RecordPreferredTermYN=\"N\">\\n      <TermUI>T000003</TermUI>\\n      <String>Antibiotic A23187</String>\\n      <DateCreated>\\n       <Year>1990</Year>\\n       <Month>03</Month>\\n       <Day>08</Day>\\n      </DateCreated>\\n      <ThesaurusIDlist>\\n       <ThesaurusID>NLM (1991)</ThesaurusID>\\n      </ThesaurusIDlist>\\n     </Term>\\n     <Term ConceptPreferredTermYN=\"N\" IsPermutedTermYN=\"Y\" LexicalTag=\"NON\" RecordPreferredTermYN=\"N\">\\n      <TermUI>T000003</TermUI>\\n      <String>A23187, Antibiotic</String>\\n     </Term>\\n    </TermList>\\n   </Concept>\\n  </ConceptList>\\n </DescriptorRecord>\\n'\n"
          ]
        }
      ]
    },
    {
      "cell_type": "code",
      "source": [
        "qualifier_string = qualifier_xml.decode('utf-8')\n",
        "print(qualifier_string)"
      ],
      "metadata": {
        "colab": {
          "base_uri": "https://localhost:8080/"
        },
        "id": "ZmclOxHVjZjV",
        "outputId": "a607d15a-9509-4798-8cff-4489ce5f6ec4"
      },
      "execution_count": 11,
      "outputs": [
        {
          "output_type": "stream",
          "name": "stdout",
          "text": [
            "<DescriptorRecord DescriptorClass=\"1\">\n",
            "  <DescriptorUI>D000001</DescriptorUI>\n",
            "  <DescriptorName>\n",
            "   <String>Calcimycin</String>\n",
            "  </DescriptorName>\n",
            "  <DateCreated>\n",
            "   <Year>1974</Year>\n",
            "   <Month>11</Month>\n",
            "   <Day>19</Day>\n",
            "  </DateCreated>\n",
            "  <DateRevised>\n",
            "   <Year>2016</Year>\n",
            "   <Month>05</Month>\n",
            "   <Day>27</Day>\n",
            "  </DateRevised>\n",
            "  <DateEstablished>\n",
            "   <Year>1984</Year>\n",
            "   <Month>01</Month>\n",
            "   <Day>01</Day>\n",
            "  </DateEstablished>\n",
            "  <AllowableQualifiersList>\n",
            "   <AllowableQualifier>\n",
            "    <QualifierReferredTo>\n",
            "     <QualifierUI>Q000302</QualifierUI>\n",
            "      <QualifierName>\n",
            "      <String>isolation &amp; purification</String>\n",
            "      </QualifierName>\n",
            "    </QualifierReferredTo>\n",
            "    <Abbreviation>IP</Abbreviation>\n",
            "   </AllowableQualifier>\n",
            "   <AllowableQualifier>\n",
            "    <QualifierReferredTo>\n",
            "     <QualifierUI>Q000276</QualifierUI>\n",
            "      <QualifierName>\n",
            "      <String>immunology</String>\n",
            "      </QualifierName>\n",
            "    </QualifierReferredTo>\n",
            "    <Abbreviation>IM</Abbreviation>\n",
            "   </AllowableQualifier>\n",
            "   <AllowableQualifier>\n",
            "    <QualifierReferredTo>\n",
            "     <QualifierUI>Q000493</QualifierUI>\n",
            "      <QualifierName>\n",
            "      <String>pharmacokinetics</String>\n",
            "      </QualifierName>\n",
            "    </QualifierReferredTo>\n",
            "    <Abbreviation>PK</Abbreviation>\n",
            "   </AllowableQualifier>\n",
            "   <AllowableQualifier>\n",
            "    <QualifierReferredTo>\n",
            "     <QualifierUI>Q000096</QualifierUI>\n",
            "      <QualifierName>\n",
            "      <String>biosynthesis</String>\n",
            "      </QualifierName>\n",
            "    </QualifierReferredTo>\n",
            "    <Abbreviation>BI</Abbreviation>\n",
            "   </AllowableQualifier>\n",
            "   <AllowableQualifier>\n",
            "    <QualifierReferredTo>\n",
            "     <QualifierUI>Q000627</QualifierUI>\n",
            "      <QualifierName>\n",
            "      <String>therapeutic use</String>\n",
            "      </QualifierName>\n",
            "    </QualifierReferredTo>\n",
            "    <Abbreviation>TU</Abbreviation>\n",
            "   </AllowableQualifier>\n",
            "   <AllowableQualifier>\n",
            "    <QualifierReferredTo>\n",
            "     <QualifierUI>Q000819</QualifierUI>\n",
            "      <QualifierName>\n",
            "      <String>agonists</String>\n",
            "      </QualifierName>\n",
            "    </QualifierReferredTo>\n",
            "    <Abbreviation>AG</Abbreviation>\n",
            "   </AllowableQualifier>\n",
            "   <AllowableQualifier>\n",
            "    <QualifierReferredTo>\n",
            "     <QualifierUI>Q000097</QualifierUI>\n",
            "      <QualifierName>\n",
            "      <String>blood</String>\n",
            "      </QualifierName>\n",
            "    </QualifierReferredTo>\n",
            "    <Abbreviation>BL</Abbreviation>\n",
            "   </AllowableQualifier>\n",
            "   <AllowableQualifier>\n",
            "    <QualifierReferredTo>\n",
            "     <QualifierUI>Q000134</QualifierUI>\n",
            "      <QualifierName>\n",
            "      <String>cerebrospinal fluid</String>\n",
            "      </QualifierName>\n",
            "    </QualifierReferredTo>\n",
            "    <Abbreviation>CF</Abbreviation>\n",
            "   </AllowableQualifier>\n",
            "   <AllowableQualifier>\n",
            "    <QualifierReferredTo>\n",
            "     <QualifierUI>Q000138</QualifierUI>\n",
            "      <QualifierName>\n",
            "      <String>chemical synthesis</String>\n",
            "      </QualifierName>\n",
            "    </QualifierReferredTo>\n",
            "    <Abbreviation>CS</Abbreviation>\n",
            "   </AllowableQualifier>\n",
            "   <AllowableQualifier>\n",
            "    <QualifierReferredTo>\n",
            "     <QualifierUI>Q000737</QualifierUI>\n",
            "      <QualifierName>\n",
            "      <String>chemistry</String>\n",
            "      </QualifierName>\n",
            "    </QualifierReferredTo>\n",
            "    <Abbreviation>CH</Abbreviation>\n",
            "   </AllowableQualifier>\n",
            "   <AllowableQualifier>\n",
            "    <QualifierReferredTo>\n",
            "     <QualifierUI>Q000652</QualifierUI>\n",
            "      <QualifierName>\n",
            "      <String>urine</String>\n",
            "      </QualifierName>\n",
            "    </QualifierReferredTo>\n",
            "    <Abbreviation>UR</Abbreviation>\n",
            "   </AllowableQualifier>\n",
            "   <AllowableQualifier>\n",
            "    <QualifierReferredTo>\n",
            "     <QualifierUI>Q000528</QualifierUI>\n",
            "      <QualifierName>\n",
            "      <String>radiation effects</String>\n",
            "      </QualifierName>\n",
            "    </QualifierReferredTo>\n",
            "    <Abbreviation>RE</Abbreviation>\n",
            "   </AllowableQualifier>\n",
            "   <AllowableQualifier>\n",
            "    <QualifierReferredTo>\n",
            "     <QualifierUI>Q000266</QualifierUI>\n",
            "      <QualifierName>\n",
            "      <String>history</String>\n",
            "      </QualifierName>\n",
            "    </QualifierReferredTo>\n",
            "    <Abbreviation>HI</Abbreviation>\n",
            "   </AllowableQualifier>\n",
            "   <AllowableQualifier>\n",
            "    <QualifierReferredTo>\n",
            "     <QualifierUI>Q000032</QualifierUI>\n",
            "      <QualifierName>\n",
            "      <String>analysis</String>\n",
            "      </QualifierName>\n",
            "    </QualifierReferredTo>\n",
            "    <Abbreviation>AN</Abbreviation>\n",
            "   </AllowableQualifier>\n",
            "   <AllowableQualifier>\n",
            "    <QualifierReferredTo>\n",
            "     <QualifierUI>Q000145</QualifierUI>\n",
            "      <QualifierName>\n",
            "      <String>classification</String>\n",
            "      </QualifierName>\n",
            "    </QualifierReferredTo>\n",
            "    <Abbreviation>CL</Abbreviation>\n",
            "   </AllowableQualifier>\n",
            "   <AllowableQualifier>\n",
            "    <QualifierReferredTo>\n",
            "     <QualifierUI>Q000191</QualifierUI>\n",
            "      <QualifierName>\n",
            "      <String>economics</String>\n",
            "      </QualifierName>\n",
            "    </QualifierReferredTo>\n",
            "    <Abbreviation>EC</Abbreviation>\n",
            "   </AllowableQualifier>\n",
            "   <AllowableQualifier>\n",
            "    <QualifierReferredTo>\n",
            "     <QualifierUI>Q000494</QualifierUI>\n",
            "      <QualifierName>\n",
            "      <String>pharmacology</String>\n",
            "      </QualifierName>\n",
            "    </QualifierReferredTo>\n",
            "    <Abbreviation>PD</Abbreviation>\n",
            "   </AllowableQualifier>\n",
            "   <AllowableQualifier>\n",
            "    <QualifierReferredTo>\n",
            "     <QualifierUI>Q000592</QualifierUI>\n",
            "      <QualifierName>\n",
            "      <String>standards</String>\n",
            "      </QualifierName>\n",
            "    </QualifierReferredTo>\n",
            "    <Abbreviation>ST</Abbreviation>\n",
            "   </AllowableQualifier>\n",
            "   <AllowableQualifier>\n",
            "    <QualifierReferredTo>\n",
            "     <QualifierUI>Q000008</QualifierUI>\n",
            "      <QualifierName>\n",
            "      <String>administration &amp; dosage</String>\n",
            "      </QualifierName>\n",
            "    </QualifierReferredTo>\n",
            "    <Abbreviation>AD</Abbreviation>\n",
            "   </AllowableQualifier>\n",
            "   <AllowableQualifier>\n",
            "    <QualifierReferredTo>\n",
            "     <QualifierUI>Q000037</QualifierUI>\n",
            "      <QualifierName>\n",
            "      <String>antagonists &amp; inhibitors</String>\n",
            "      </QualifierName>\n",
            "    </QualifierReferredTo>\n",
            "    <Abbreviation>AI</Abbreviation>\n",
            "   </AllowableQualifier>\n",
            "   <AllowableQualifier>\n",
            "    <QualifierReferredTo>\n",
            "     <QualifierUI>Q000031</QualifierUI>\n",
            "      <QualifierName>\n",
            "      <String>analogs &amp; derivatives</String>\n",
            "      </QualifierName>\n",
            "    </QualifierReferredTo>\n",
            "    <Abbreviation>AA</Abbreviation>\n",
            "   </AllowableQualifier>\n",
            "   <AllowableQualifier>\n",
            "    <QualifierReferredTo>\n",
            "     <QualifierUI>Q000600</QualifierUI>\n",
            "      <QualifierName>\n",
            "      <String>supply &amp; distribution</String>\n",
            "      </QualifierName>\n",
            "    </QualifierReferredTo>\n",
            "    <Abbreviation>SD</Abbreviation>\n",
            "   </AllowableQualifier>\n",
            "   <AllowableQualifier>\n",
            "    <QualifierReferredTo>\n",
            "     <QualifierUI>Q000506</QualifierUI>\n",
            "      <QualifierName>\n",
            "      <String>poisoning</String>\n",
            "      </QualifierName>\n",
            "    </QualifierReferredTo>\n",
            "    <Abbreviation>PO</Abbreviation>\n",
            "   </AllowableQualifier>\n",
            "   <AllowableQualifier>\n",
            "    <QualifierReferredTo>\n",
            "     <QualifierUI>Q000009</QualifierUI>\n",
            "      <QualifierName>\n",
            "      <String>adverse effects</String>\n",
            "      </QualifierName>\n",
            "    </QualifierReferredTo>\n",
            "    <Abbreviation>AE</Abbreviation>\n",
            "   </AllowableQualifier>\n",
            "   <AllowableQualifier>\n",
            "    <QualifierReferredTo>\n",
            "     <QualifierUI>Q000633</QualifierUI>\n",
            "      <QualifierName>\n",
            "      <String>toxicity</String>\n",
            "      </QualifierName>\n",
            "    </QualifierReferredTo>\n",
            "    <Abbreviation>TO</Abbreviation>\n",
            "   </AllowableQualifier>\n",
            "   <AllowableQualifier>\n",
            "    <QualifierReferredTo>\n",
            "     <QualifierUI>Q000378</QualifierUI>\n",
            "      <QualifierName>\n",
            "      <String>metabolism</String>\n",
            "      </QualifierName>\n",
            "    </QualifierReferredTo>\n",
            "    <Abbreviation>ME</Abbreviation>\n",
            "   </AllowableQualifier>\n",
            "  </AllowableQualifiersList>\n",
            "  <HistoryNote>91(75); was A 23187 1975-90 (see under ANTIBIOTICS 1975-83)\n",
            "  </HistoryNote>\n",
            "  <OnlineNote>use CALCIMYCIN to search A 23187 1975-90\n",
            "  </OnlineNote>\n",
            "  <PublicMeSHNote>91; was A 23187 1975-90 (see under ANTIBIOTICS 1975-83)\n",
            "  </PublicMeSHNote>\n",
            "  <PreviousIndexingList>\n",
            "   <PreviousIndexing>Antibiotics (1973-1974)</PreviousIndexing>\n",
            "   <PreviousIndexing>Carboxylic Acids (1973-1974)</PreviousIndexing>\n",
            "  </PreviousIndexingList>\n",
            "    <PharmacologicalActionList>\n",
            "     <PharmacologicalAction>\n",
            "      <DescriptorReferredTo>\n",
            "       <DescriptorUI>D000900</DescriptorUI>\n",
            "        <DescriptorName>\n",
            "         <String>Anti-Bacterial Agents</String>\n",
            "        </DescriptorName>\n",
            "      </DescriptorReferredTo>\n",
            "     </PharmacologicalAction>\n",
            "     <PharmacologicalAction>\n",
            "      <DescriptorReferredTo>\n",
            "       <DescriptorUI>D061207</DescriptorUI>\n",
            "        <DescriptorName>\n",
            "         <String>Calcium Ionophores</String>\n",
            "        </DescriptorName>\n",
            "      </DescriptorReferredTo>\n",
            "     </PharmacologicalAction>\n",
            "    </PharmacologicalActionList>\n",
            "  <TreeNumberList>\n",
            "   <TreeNumber>D03.633.100.221.173</TreeNumber>\n",
            "  </TreeNumberList>\n",
            "  <ConceptList>\n",
            "   <Concept PreferredConceptYN=\"Y\">\n",
            "    <ConceptUI>M0000001</ConceptUI>\n",
            "    <ConceptName>\n",
            "     <String>Calcimycin</String>\n",
            "    </ConceptName>\n",
            "    <CASN1Name>4-Benzoxazolecarboxylic acid, 5-(methylamino)-2-((3,9,11-trimethyl-8-(1-methyl-2-oxo-2-(1H-pyrrol-2-yl)ethyl)-1,7-dioxaspiro(5.5)undec-2-yl)methyl)-, (6S-(6alpha(2S*,3S*),8beta(R*),9beta,11alpha))-</CASN1Name>\n",
            "    <RegistryNumber>37H9VM9WZL</RegistryNumber>\n",
            "    <ScopeNote>An ionophorous, polyether antibiotic from Streptomyces chartreusensis. It binds and transports CALCIUM and other divalent cations across membranes and uncouples oxidative phosphorylation while inhibiting ATPase of rat liver mitochondria. The substance is used mostly as a biochemical tool to study the role of divalent cations in various biological systems.\n",
            "    </ScopeNote>\n",
            "    <RelatedRegistryNumberList>\n",
            "     <RelatedRegistryNumber>52665-69-7 (Calcimycin)</RelatedRegistryNumber>\n",
            "    </RelatedRegistryNumberList>\n",
            "    <ConceptRelationList>\n",
            "     <ConceptRelation RelationName=\"NRW\">\n",
            "     <Concept1UI>M0000001</Concept1UI>\n",
            "     <Concept2UI>M0353609</Concept2UI>\n",
            "     </ConceptRelation>\n",
            "    </ConceptRelationList>\n",
            "    <TermList>\n",
            "     <Term ConceptPreferredTermYN=\"Y\" IsPermutedTermYN=\"N\" LexicalTag=\"NON\" RecordPreferredTermYN=\"Y\">\n",
            "      <TermUI>T000002</TermUI>\n",
            "      <String>Calcimycin</String>\n",
            "      <DateCreated>\n",
            "       <Year>1999</Year>\n",
            "       <Month>01</Month>\n",
            "       <Day>01</Day>\n",
            "      </DateCreated>\n",
            "      <ThesaurusIDlist>\n",
            "       <ThesaurusID>FDA SRS (2014)</ThesaurusID>\n",
            "       <ThesaurusID>NLM (1975)</ThesaurusID>\n",
            "      </ThesaurusIDlist>\n",
            "     </Term>\n",
            "    </TermList>\n",
            "   </Concept>\n",
            "   <Concept PreferredConceptYN=\"N\">\n",
            "    <ConceptUI>M0353609</ConceptUI>\n",
            "    <ConceptName>\n",
            "     <String>A-23187</String>\n",
            "    </ConceptName>\n",
            "    <RegistryNumber>0</RegistryNumber>\n",
            "    <ConceptRelationList>\n",
            "     <ConceptRelation RelationName=\"NRW\">\n",
            "     <Concept1UI>M0000001</Concept1UI>\n",
            "     <Concept2UI>M0353609</Concept2UI>\n",
            "     </ConceptRelation>\n",
            "    </ConceptRelationList>\n",
            "    <TermList>\n",
            "     <Term ConceptPreferredTermYN=\"Y\" IsPermutedTermYN=\"N\" LexicalTag=\"LAB\" RecordPreferredTermYN=\"N\">\n",
            "      <TermUI>T000001</TermUI>\n",
            "      <String>A-23187</String>\n",
            "      <DateCreated>\n",
            "       <Year>1990</Year>\n",
            "       <Month>03</Month>\n",
            "       <Day>08</Day>\n",
            "      </DateCreated>\n",
            "      <ThesaurusIDlist>\n",
            "       <ThesaurusID>NLM (1991)</ThesaurusID>\n",
            "      </ThesaurusIDlist>\n",
            "     </Term>\n",
            "     <Term ConceptPreferredTermYN=\"N\" IsPermutedTermYN=\"Y\" LexicalTag=\"LAB\" RecordPreferredTermYN=\"N\">\n",
            "      <TermUI>T000001</TermUI>\n",
            "      <String>A 23187</String>\n",
            "     </Term>\n",
            "     <Term ConceptPreferredTermYN=\"N\" IsPermutedTermYN=\"N\" LexicalTag=\"LAB\" RecordPreferredTermYN=\"N\">\n",
            "      <TermUI>T000004</TermUI>\n",
            "      <String>A23187</String>\n",
            "      <DateCreated>\n",
            "       <Year>1974</Year>\n",
            "       <Month>11</Month>\n",
            "       <Day>11</Day>\n",
            "      </DateCreated>\n",
            "      <ThesaurusIDlist>\n",
            "       <ThesaurusID>UNK (19XX)</ThesaurusID>\n",
            "      </ThesaurusIDlist>\n",
            "     </Term>\n",
            "     <Term ConceptPreferredTermYN=\"N\" IsPermutedTermYN=\"N\" LexicalTag=\"NON\" RecordPreferredTermYN=\"N\">\n",
            "      <TermUI>T000003</TermUI>\n",
            "      <String>Antibiotic A23187</String>\n",
            "      <DateCreated>\n",
            "       <Year>1990</Year>\n",
            "       <Month>03</Month>\n",
            "       <Day>08</Day>\n",
            "      </DateCreated>\n",
            "      <ThesaurusIDlist>\n",
            "       <ThesaurusID>NLM (1991)</ThesaurusID>\n",
            "      </ThesaurusIDlist>\n",
            "     </Term>\n",
            "     <Term ConceptPreferredTermYN=\"N\" IsPermutedTermYN=\"Y\" LexicalTag=\"NON\" RecordPreferredTermYN=\"N\">\n",
            "      <TermUI>T000003</TermUI>\n",
            "      <String>A23187, Antibiotic</String>\n",
            "     </Term>\n",
            "    </TermList>\n",
            "   </Concept>\n",
            "  </ConceptList>\n",
            " </DescriptorRecord>\n",
            "\n"
          ]
        }
      ]
    },
    {
      "cell_type": "code",
      "source": [
        "def findDescName(root, inputRec):\n",
        "  for descRec in root:\n",
        "      if (descRec.find('DescriptorUI').text == inputRec):\n",
        "          return descRec.find('DescriptorName').find('String').text\n",
        "  \n",
        "inputRec = input(\"Input a DescriptorName: \")\n",
        "findDescName(root, inputRec)"
      ],
      "metadata": {
        "id": "9ievKmSEioYH",
        "outputId": "28012ef1-741a-495a-bdda-16f0a3612f74",
        "colab": {
          "base_uri": "https://localhost:8080/",
          "height": 54
        }
      },
      "execution_count": 54,
      "outputs": [
        {
          "name": "stdout",
          "output_type": "stream",
          "text": [
            "Input a DescriptorName: D007154\n"
          ]
        },
        {
          "output_type": "execute_result",
          "data": {
            "text/plain": [
              "'Immune System Diseases'"
            ],
            "application/vnd.google.colaboratory.intrinsic+json": {
              "type": "string"
            }
          },
          "metadata": {},
          "execution_count": 54
        }
      ]
    },
    {
      "cell_type": "code",
      "source": [
        "def findDescUI(root, inputRec):\n",
        "    for descRec in root:\n",
        "        if (descRec.find('DescriptorName').find('String').text == inputRec):\n",
        "            return descRec.find('DescriptorUI').text\n",
        "\n",
        "inputRec = input(\"Input a DescriptorUI: \")\n",
        "findDescUI(root, inputRec)"
      ],
      "metadata": {
        "id": "U_0Xyy8skxxN",
        "outputId": "cf950789-e6e9-41e0-a228-c9aed3538d6d",
        "colab": {
          "base_uri": "https://localhost:8080/",
          "height": 54
        }
      },
      "execution_count": 53,
      "outputs": [
        {
          "name": "stdout",
          "output_type": "stream",
          "text": [
            "Input a DescriptorUI: Nervous System Diseases\n"
          ]
        },
        {
          "output_type": "execute_result",
          "data": {
            "text/plain": [
              "'D009422'"
            ],
            "application/vnd.google.colaboratory.intrinsic+json": {
              "type": "string"
            }
          },
          "metadata": {},
          "execution_count": 53
        }
      ]
    },
    {
      "cell_type": "code",
      "source": [
        "def findDescendants(root, descendant1, descendant2):\n",
        "  for descRec in root:\n",
        "    if (descRec.find('DescriptorName').find('String').text == descendant1):\n",
        "      treenum_list1 = descRec.find('TreeNumberList').findall('TreeNumber')\n",
        "    if (descRec.find('DescriptorUI').text == descendant2):\n",
        "      #descendant2_Name = descRec.find('DescriptorName').find('String').text\n",
        "      treenum_list2 = descRec.find('TreeNumberList').findall('TreeNumber')\n",
        "\n",
        "  for i in range(len(treenum_list1)):\n",
        "      treeNum1 = treenum_list1[i].text\n",
        "      print(treenum_list1[i].text)\n",
        "\n",
        "  for i in range(len(treenum_list2)):\n",
        "      treeNum2 = treenum_list2[i].text\n",
        "      print(treenum_list2[i].text)\n",
        "\n",
        "  for DescriptorRecord in root:\n",
        "    if (DescriptorRecord.attrib['DescriptorClass'] != '3'): \n",
        "      #compare treenum_list for longer one, replace line below\n",
        "      for i in range(len(treenum_list)):\n",
        "        if treenum_list1[i].text[0:3] == treeNum1:\n",
        "          if treenum_list2[i].text[0:3] == treeNum2:\n",
        "            print(DescriptorRecord.find('DescriptorName').find('String').text)\n",
        "\n",
        "  for i in range(len(treenum_list2)):\n",
        "    if treenum_list2[i] in treenum_list2:\n",
        "          print(treenum_list2[i].text)\n",
        "\n",
        "#descendant1 = 'Nervous System Diseases'\n",
        "#descendant2 = 'D007154'\n",
        "\n",
        "descendant1 = input(\"Input a DescriptorName: \")\n",
        "descendant2 = input(\"Input a DescriptorUI: \")\n",
        "findDescendants(root, descendant1, descendant2)"
      ],
      "metadata": {
        "id": "a6FIU567nILq",
        "outputId": "aa6cce76-be60-4651-f74f-c9ee532b888f",
        "colab": {
          "base_uri": "https://localhost:8080/",
          "height": 402
        }
      },
      "execution_count": 91,
      "outputs": [
        {
          "output_type": "stream",
          "name": "stdout",
          "text": [
            "Input a DescriptorName: Nervous System Diseases\n",
            "Input a DescriptorUI: D007154\n",
            "C10\n",
            "C20\n",
            "Calcimycin\n"
          ]
        },
        {
          "output_type": "error",
          "ename": "IndexError",
          "evalue": "ignored",
          "traceback": [
            "\u001b[0;31m---------------------------------------------------------------------------\u001b[0m",
            "\u001b[0;31mIndexError\u001b[0m                                Traceback (most recent call last)",
            "\u001b[0;32m<ipython-input-91-c11ddd8b58d6>\u001b[0m in \u001b[0;36m<module>\u001b[0;34m\u001b[0m\n\u001b[1;32m     32\u001b[0m \u001b[0mdescendant1\u001b[0m \u001b[0;34m=\u001b[0m \u001b[0minput\u001b[0m\u001b[0;34m(\u001b[0m\u001b[0;34m\"Input a DescriptorName: \"\u001b[0m\u001b[0;34m)\u001b[0m\u001b[0;34m\u001b[0m\u001b[0;34m\u001b[0m\u001b[0m\n\u001b[1;32m     33\u001b[0m \u001b[0mdescendant2\u001b[0m \u001b[0;34m=\u001b[0m \u001b[0minput\u001b[0m\u001b[0;34m(\u001b[0m\u001b[0;34m\"Input a DescriptorUI: \"\u001b[0m\u001b[0;34m)\u001b[0m\u001b[0;34m\u001b[0m\u001b[0;34m\u001b[0m\u001b[0m\n\u001b[0;32m---> 34\u001b[0;31m \u001b[0mfindDescendants\u001b[0m\u001b[0;34m(\u001b[0m\u001b[0mroot\u001b[0m\u001b[0;34m,\u001b[0m \u001b[0mdescendant1\u001b[0m\u001b[0;34m,\u001b[0m \u001b[0mdescendant2\u001b[0m\u001b[0;34m)\u001b[0m\u001b[0;34m\u001b[0m\u001b[0;34m\u001b[0m\u001b[0m\n\u001b[0m",
            "\u001b[0;32m<ipython-input-91-c11ddd8b58d6>\u001b[0m in \u001b[0;36mfindDescendants\u001b[0;34m(root, descendant1, descendant2)\u001b[0m\n\u001b[1;32m     19\u001b[0m       \u001b[0;31m#compare treenum_list for longer one, replace line below\u001b[0m\u001b[0;34m\u001b[0m\u001b[0;34m\u001b[0m\u001b[0;34m\u001b[0m\u001b[0m\n\u001b[1;32m     20\u001b[0m       \u001b[0;32mfor\u001b[0m \u001b[0mi\u001b[0m \u001b[0;32min\u001b[0m \u001b[0mrange\u001b[0m\u001b[0;34m(\u001b[0m\u001b[0mlen\u001b[0m\u001b[0;34m(\u001b[0m\u001b[0mtreenum_list\u001b[0m\u001b[0;34m)\u001b[0m\u001b[0;34m)\u001b[0m\u001b[0;34m:\u001b[0m\u001b[0;34m\u001b[0m\u001b[0;34m\u001b[0m\u001b[0m\n\u001b[0;32m---> 21\u001b[0;31m         \u001b[0;32mif\u001b[0m \u001b[0mtreenum_list1\u001b[0m\u001b[0;34m[\u001b[0m\u001b[0mi\u001b[0m\u001b[0;34m]\u001b[0m\u001b[0;34m.\u001b[0m\u001b[0mtext\u001b[0m\u001b[0;34m[\u001b[0m\u001b[0;36m0\u001b[0m\u001b[0;34m:\u001b[0m\u001b[0;36m3\u001b[0m\u001b[0;34m]\u001b[0m \u001b[0;34m==\u001b[0m \u001b[0mtreeNum1\u001b[0m\u001b[0;34m:\u001b[0m\u001b[0;34m\u001b[0m\u001b[0;34m\u001b[0m\u001b[0m\n\u001b[0m\u001b[1;32m     22\u001b[0m           \u001b[0;32mif\u001b[0m \u001b[0mtreenum_list2\u001b[0m\u001b[0;34m[\u001b[0m\u001b[0mi\u001b[0m\u001b[0;34m]\u001b[0m\u001b[0;34m.\u001b[0m\u001b[0mtext\u001b[0m\u001b[0;34m[\u001b[0m\u001b[0;36m0\u001b[0m\u001b[0;34m:\u001b[0m\u001b[0;36m3\u001b[0m\u001b[0;34m]\u001b[0m \u001b[0;34m==\u001b[0m \u001b[0mtreeNum2\u001b[0m\u001b[0;34m:\u001b[0m\u001b[0;34m\u001b[0m\u001b[0;34m\u001b[0m\u001b[0m\n\u001b[1;32m     23\u001b[0m             \u001b[0mprint\u001b[0m\u001b[0;34m(\u001b[0m\u001b[0mDescriptorRecord\u001b[0m\u001b[0;34m.\u001b[0m\u001b[0mfind\u001b[0m\u001b[0;34m(\u001b[0m\u001b[0;34m'DescriptorName'\u001b[0m\u001b[0;34m)\u001b[0m\u001b[0;34m.\u001b[0m\u001b[0mfind\u001b[0m\u001b[0;34m(\u001b[0m\u001b[0;34m'String'\u001b[0m\u001b[0;34m)\u001b[0m\u001b[0;34m.\u001b[0m\u001b[0mtext\u001b[0m\u001b[0;34m)\u001b[0m\u001b[0;34m\u001b[0m\u001b[0;34m\u001b[0m\u001b[0m\n",
            "\u001b[0;31mIndexError\u001b[0m: list index out of range"
          ]
        }
      ]
    }
  ]
}