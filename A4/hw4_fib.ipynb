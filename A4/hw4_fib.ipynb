{
  "nbformat": 4,
  "nbformat_minor": 0,
  "metadata": {
    "colab": {
      "provenance": [],
      "authorship_tag": "ABX9TyP7D2eDS5chRNf/jIxqw4ra",
      "include_colab_link": true
    },
    "kernelspec": {
      "name": "python3",
      "display_name": "Python 3"
    },
    "language_info": {
      "name": "python"
    }
  },
  "cells": [
    {
      "cell_type": "markdown",
      "metadata": {
        "id": "view-in-github",
        "colab_type": "text"
      },
      "source": [
        "<a href=\"https://colab.research.google.com/github/goldiezhu/BIS634/blob/main/A4/hw4_fib.ipynb\" target=\"_parent\"><img src=\"https://colab.research.google.com/assets/colab-badge.svg\" alt=\"Open In Colab\"/></a>"
      ]
    },
    {
      "cell_type": "code",
      "execution_count": 18,
      "metadata": {
        "colab": {
          "base_uri": "https://localhost:8080/",
          "height": 974
        },
        "id": "0pqccwKIW10e",
        "outputId": "1382d885-2cbb-425f-fb21-6473b4d61960"
      },
      "outputs": [
        {
          "output_type": "stream",
          "name": "stderr",
          "text": [
            "\n",
            "\n",
            "\n",
            "100%|██████████| 39/39 [00:00<00:00, 102364.12it/s]\n",
            "\n",
            "\n",
            "\n",
            "  0%|          | 0/39 [00:00<?, ?it/s]\u001b[A\u001b[A\u001b[A\n",
            "\n",
            "\n",
            " 64%|██████▍   | 25/39 [00:00<00:00, 162.17it/s]\u001b[A\u001b[A\u001b[A\n",
            "\n",
            "\n",
            " 64%|██████▍   | 25/39 [00:15<00:00, 162.17it/s]\u001b[A\u001b[A\u001b[A\n",
            "\n",
            "\n",
            " 90%|████████▉ | 35/39 [00:18<00:02,  1.52it/s] \u001b[A\u001b[A\u001b[A\n",
            "\n",
            "\n",
            " 92%|█████████▏| 36/39 [00:29<00:03,  1.17s/it]\u001b[A\u001b[A\u001b[A\n",
            "\n",
            "\n",
            " 95%|█████████▍| 37/39 [00:47<00:04,  2.30s/it]\u001b[A\u001b[A\u001b[A\n",
            "\n",
            "\n",
            " 97%|█████████▋| 38/39 [01:17<00:04,  4.68s/it]\u001b[A\u001b[A\u001b[A\n",
            "\n",
            "\n",
            "100%|██████████| 39/39 [02:05<00:00,  3.23s/it]\n",
            " 90%|████████▉ | 35/39 [29:39<03:23, 50.83s/it]\n",
            " 77%|███████▋  | 30/39 [20:54<06:16, 41.83s/it] \n"
          ]
        },
        {
          "output_type": "display_data",
          "data": {
            "text/plain": [
              "<Figure size 640x480 with 1 Axes>"
            ],
            "image/png": "[encoded data removed]"
          },
          "metadata": {}
        },
        {
          "output_type": "execute_result",
          "data": {
            "text/plain": [
              "<ggplot: (8782141345464)>"
            ]
          },
          "metadata": {},
          "execution_count": 18
        }
      ],
      "source": [
        "# The n-th Fibonacci number is the sum of the (n-1)th and (n-2)th\n",
        "from functools import lru_cache\n",
        "import time\n",
        "import pandas as pd\n",
        "import plotnine as p9\n",
        "from tqdm import tqdm\n",
        "\n",
        "### Recursive Strategy ###\n",
        "def fib_rec(n):\n",
        "    if (n <= 1):\n",
        "        return n\n",
        "    else:\n",
        "        return(fib_rec(n-1) + fib_rec(n-2))\n",
        "\n",
        "def timeit(function, *args, n=3):\n",
        "    times = []\n",
        "    for i in range(n):\n",
        "        start = time.time()\n",
        "        function(*args)\n",
        "        times.append(time.time() - start)\n",
        "    return min(times)\n",
        "\n",
        "# The n-th Fibonacci number is the sum of the (n-1)th and (n-2)th\n",
        "\n",
        "### LRU Cache ###\n",
        "@lru_cache()\n",
        "def fib_cache(n):\n",
        "    if n in {1,2}:\n",
        "        return n\n",
        "    return(fib_cache(n-1) + fib_cache(n-2))\n",
        "\n",
        "def timeit(function, *args, n=3):\n",
        "    times = []\n",
        "    for i in range(n):\n",
        "        start = time.time()\n",
        "        function(*args)\n",
        "        times.append(time.time() - start)\n",
        "    return min(times)\n",
        "\n",
        "ns = range(1,40)\n",
        "times = [timeit(fib_cache,n) for n in tqdm(ns)]\n",
        "times1 = [timeit(fib_rec,n) for n in tqdm(ns)]\n",
        "\n",
        "\n",
        "df = pd.DataFrame({'n':ns, 'time (s)': times, 'time1 (s)': times1})\n",
        "df['x'] = df.index\n",
        "p9.ggplot(p9.aes(x='n'), data=df) +\\\n",
        "    p9.geom_line(p9.aes(y='time (s)'), color='blue') +\\\n",
        "    p9.geom_line(p9.aes(y='time1 (s)'), color='red') "
      ]
    },
    {
      "cell_type": "code",
      "source": [],
      "metadata": {
        "id": "E3FcEvCId8AT"
      },
      "execution_count": null,
      "outputs": []
    }
  ]
}