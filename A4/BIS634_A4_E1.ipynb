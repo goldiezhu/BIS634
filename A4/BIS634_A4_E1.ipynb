{
 "cells": [
  {
   "cell_type": "code",
   "execution_count": 27,
   "metadata": {},
   "outputs": [
    {
     "data": {
      "text/plain": [
       "(0.21554479999832382, 0.678045700000218)"
      ]
     },
     "execution_count": 27,
     "metadata": {},
     "output_type": "execute_result"
    }
   ],
   "source": [
    "import requests\n",
    "\n",
    "def error(a = 0.1, b = 0.1):\n",
    "    return float(requests.get(f\"http://ramcdougal.com/cgi-bin/error_function.py?a={a}&b={b}\", headers={\"User-Agent\": \"MyScript\"}).text)\n",
    "\n",
    "def optimize(a, b, h):\n",
    "    deriv_a = a - 0.1 * ((error(a + h,b) - error(a,b))/h)\n",
    "    deriv_b = b - 0.1 * ((error(a,b + h) - error(a,b))/h)\n",
    "    while abs(error(deriv_a, deriv_b) - error(a,b)) > 0.0001:\n",
    "        a, b = deriv_a, deriv_b\n",
    "        deriv_a = deriv_a - 0.1 * ((error(a + h,b) - error(a,b))/h)\n",
    "        deriv_b = deriv_b - 0.1 * ((error(a,b + h) - error(a,b))/h)\n",
    "    return deriv_a, deriv_b\n",
    "\n",
    "optimize(0.2, 0.3, 0.00001)"
   ]
  },
  {
   "cell_type": "code",
   "execution_count": 28,
   "metadata": {},
   "outputs": [
    {
     "data": {
      "text/plain": [
       "(0.21554999999875407, 0.6780509999939952)"
      ]
     },
     "execution_count": 28,
     "metadata": {},
     "output_type": "execute_result"
    }
   ],
   "source": [
    "optimize(0.2, 0.3, 0.000001)"
   ]
  },
  {
   "cell_type": "code",
   "execution_count": 29,
   "metadata": {},
   "outputs": [
    {
     "data": {
      "text/plain": [
       "(0.21555999951108334, 0.67806000019458)"
      ]
     },
     "execution_count": 29,
     "metadata": {},
     "output_type": "execute_result"
    }
   ],
   "source": [
    "optimize(0.2, 0.3, 0.0000001)"
   ]
  },
  {
   "cell_type": "code",
   "execution_count": 30,
   "metadata": {},
   "outputs": [
    {
     "data": {
      "text/plain": [
       "(0.21550000128247576, 0.6780000001896156)"
      ]
     },
     "execution_count": 30,
     "metadata": {},
     "output_type": "execute_result"
    }
   ],
   "source": [
    "optimize(0.2, 0.3, 0.00000001)"
   ]
  },
  {
   "cell_type": "code",
   "execution_count": 37,
   "metadata": {},
   "outputs": [
    {
     "data": {
      "text/plain": [
       "(0.21600000132384595, 0.6759999644969981)"
      ]
     },
     "execution_count": 37,
     "metadata": {},
     "output_type": "execute_result"
    }
   ],
   "source": [
    "optimize(0.2, 0.3, 0.000000001)"
   ]
  },
  {
   "cell_type": "code",
   "execution_count": 35,
   "metadata": {},
   "outputs": [
    {
     "data": {
      "text/plain": [
       "(0.21000000082740372, 0.6600000297865336)"
      ]
     },
     "execution_count": 35,
     "metadata": {},
     "output_type": "execute_result"
    }
   ],
   "source": [
    "optimize(0.2, 0.3, 0.0000000001)"
   ]
  },
  {
   "cell_type": "code",
   "execution_count": 36,
   "metadata": {},
   "outputs": [
    {
     "data": {
      "text/plain": [
       "(0.2, 0.5000000165480742)"
      ]
     },
     "execution_count": 36,
     "metadata": {},
     "output_type": "execute_result"
    }
   ],
   "source": [
    "optimize(0.2, 0.3, 0.00000000001)"
   ]
  },
  {
   "cell_type": "code",
   "execution_count": 65,
   "metadata": {},
   "outputs": [
    {
     "name": "stdout",
     "output_type": "stream",
     "text": [
      "1.13597698722\n",
      "1.11213699432\n",
      "1.165897\n",
      "1.115857\n",
      "1.130617\n",
      "1.18761698565\n",
      "1.14777699308\n",
      "1.156537\n",
      "1.106497\n",
      "1.121257\n",
      "1.00979500869\n",
      "1.00847499429\n",
      "1.211977\n",
      "1.161937\n",
      "1.176697\n",
      "1.029835\n",
      "1.01591499945\n",
      "1.01579500134\n",
      "1.20737699464\n",
      "1.22213699464\n",
      "1.0144749996\n",
      "1.00055499906\n",
      "1.02503499057\n",
      "1.19481698491\n",
      "1.20957698491\n"
     ]
    }
   ],
   "source": [
    "import numpy as np\n",
    "\n",
    "minimums = []\n",
    "for i in np.linspace(0.1,1,5, endpoint = False):\n",
    "    for j in np.linspace(0.1,1,5, endpoint = False):\n",
    "        min = optimize(i,j, 0.00000000001)\n",
    "        minimums.append(min)\n",
    "for k in minimums:\n",
    "    print(error(k[0], k[1]))\n"
   ]
  },
  {
   "cell_type": "code",
   "execution_count": null,
   "metadata": {},
   "outputs": [],
   "source": []
  }
 ],
 "metadata": {
  "kernelspec": {
   "display_name": "Python 3.10.7 64-bit",
   "language": "python",
   "name": "python3"
  },
  "language_info": {
   "codemirror_mode": {
    "name": "ipython",
    "version": 3
   },
   "file_extension": ".py",
   "mimetype": "text/x-python",
   "name": "python",
   "nbconvert_exporter": "python",
   "pygments_lexer": "ipython3",
   "version": "3.10.7"
  },
  "orig_nbformat": 4,
  "vscode": {
   "interpreter": {
    "hash": "aee8b7b246df8f9039afb4144a1f6fd8d2ca17a180786b69acc140d282b71a49"
   }
  }
 },
 "nbformat": 4,
 "nbformat_minor": 2
}
