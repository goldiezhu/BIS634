{
  "nbformat": 4,
  "nbformat_minor": 0,
  "metadata": {
    "colab": {
      "provenance": [],
      "authorship_tag": "ABX9TyNKIHak1ybzBzTsyWsJTjt4",
      "include_colab_link": true
    },
    "kernelspec": {
      "name": "python3",
      "display_name": "Python 3"
    },
    "language_info": {
      "name": "python"
    }
  },
  "cells": [
    {
      "cell_type": "markdown",
      "metadata": {
        "id": "view-in-github",
        "colab_type": "text"
      },
      "source": [
        "<a href=\"https://colab.research.google.com/github/goldiezhu/BIS634/blob/main/A4/E4.ipynb\" target=\"_parent\"><img src=\"https://colab.research.google.com/assets/colab-badge.svg\" alt=\"Open In Colab\"/></a>"
      ]
    },
    {
      "cell_type": "code",
      "execution_count": 11,
      "metadata": {
        "colab": {
          "base_uri": "https://localhost:8080/"
        },
        "id": "IRTAhZfPXfsh",
        "outputId": "6abfdf55-08f2-4455-d10b-43f64045f6e6"
      },
      "outputs": [
        {
          "output_type": "stream",
          "name": "stdout",
          "text": [
            "Sequence 1: agacccta-ct-gac, Sequence 2: aga-cctagctcgac, Score: 8\n",
            "Sequence 1: gcatcga, Sequence 2: gcatcga, Score: 7\n",
            "Sequence 1: gtt-ac, Sequence 2: gttgac, Score: 4\n",
            "Sequence 1: gatt-a, Sequence 2: gattca, Score: 18\n",
            "Sequence 1: gatt-a, Sequence 2: gattca, Score: 23\n",
            "Sequence 1: gatt, Sequence 2: gatt, Score: 17\n",
            "Sequence 1: gatt-a, Sequence 2: gattca, Score: 17\n"
          ]
        },
        {
          "output_type": "stream",
          "name": "stderr",
          "text": [
            "<ipython-input-11-d43ffd97d558>:21: DeprecationWarning: `np.int` is a deprecated alias for the builtin `int`. To silence this warning, use `int` by itself. Doing this will not modify any behavior and is safe. When replacing `np.int`, you may wish to use e.g. `np.int64` or `np.int32` to specify the precision. If you wish to review your current use, check the release note link for additional information.\n",
            "Deprecated in NumPy 1.20; for more details and guidance: https://numpy.org/devdocs/release/1.20.0-notes.html#deprecations\n",
            "  matrix = np.zeros((length_m+1, length_n+1), np.int)\n"
          ]
        }
      ],
      "source": [
        "\n",
        "# Smith - Watemran Algorithm\n",
        "import numpy as np\n",
        "\n",
        "### PART 1 ###\n",
        "# implement function that takes two strings and uses the Smith-Waterman Algorithm\n",
        "# to return an optimal local alignment and score\n",
        "# insert '-' to indicate gap \n",
        "# take three keyword arguments with default 1 \n",
        "# (penalty of one applied to match scores for each missing or changed letter)\n",
        "\n",
        "    \n",
        "def smith_waterman(seq1, seq2, match = 1, gap_penalty = 1, mismatch_penalty = 1):\n",
        "    length_m = len(seq1)\n",
        "    length_n = len(seq2)\n",
        "    compute_val = 0\n",
        "    max_score = 0\n",
        "    max_score_m = 0\n",
        "    max_score_n = 0\n",
        "    \n",
        "   # init matrix to zero, have an extra row at top and extra col on left\n",
        "    matrix = np.zeros((length_m+1, length_n+1), np.int)\n",
        "    ### First half of algo: Make the Matrix \n",
        "    for m in range(1, length_m+1):\n",
        "        for n in range(1, length_n+1):\n",
        "            # if match found\n",
        "            if (seq1[m-1] == seq2[n-1]):\n",
        "                # upper left + match\n",
        "                compute_val = matrix[m-1][n-1] + match\n",
        "            # if match not found\n",
        "            else:\n",
        "                # upper left - mismatch penalty\n",
        "                compute_val = matrix[m-1][n-1] - mismatch_penalty\n",
        "\n",
        "            # find actual value to put into matrix\n",
        "            matrix[m][n] = max(compute_val, matrix[m][n-1] - gap_penalty, matrix[m-1][n] - gap_penalty, 0)\n",
        "            \n",
        "            # check max score\n",
        "            if (matrix[m][n] > max_score):\n",
        "                max_score = matrix[m][n]\n",
        "                # add 1 to max scores to account for the 0 index\n",
        "                max_score_m = m\n",
        "                max_score_n = n\n",
        "   \n",
        "    ### Second half of algo: Backtracking from max value \n",
        "    # prioritizing gap (insertion and deletions), and not mismatch\n",
        "    \n",
        "    # corresponding seq element from max value\n",
        "    tb_m = max_score_m\n",
        "    tb_n = max_score_n\n",
        "    match_seq1 = \"\"\n",
        "    match_seq2 = \"\"\n",
        "    while (matrix[tb_m][tb_n] > 0):\n",
        "        if ((seq1[tb_m-1] == seq2[tb_n-1]) and matrix[tb_m-1][tb_n-1] == matrix[tb_m][tb_n] - match):\n",
        "            match_seq1 = seq1[tb_m-1] + match_seq1\n",
        "            match_seq2 = seq2[tb_n-1] + match_seq2\n",
        "            # shift up and to the left\n",
        "            tb_m -= 1 \n",
        "            tb_n -= 1\n",
        "        # If not a match (prioritize gaps, not mismatches)\n",
        "        else:\n",
        "            # current = l - gap\n",
        "            if (matrix[tb_m][tb_n] == matrix[tb_m][tb_n-1] - gap_penalty):\n",
        "                match_seq1 = '-' + match_seq1\n",
        "                match_seq2 = seq2[tb_n-1] + match_seq2\n",
        "                # shift left\n",
        "                tb_n-= 1\n",
        "            # current = up - gap\n",
        "            elif (matrix[tb_m][tb_n] == matrix[tb_m-1][tb_n] - gap_penalty):\n",
        "                match_seq1 = seq1[tb_m-1] + match_seq1\n",
        "                match_seq2 = '-' + match_seq2\n",
        "                # shift up\n",
        "                tb_m -= 1\n",
        "            else:\n",
        "                tb_m -= 1 \n",
        "                tb_n -= 1\n",
        "    return match_seq1, match_seq2, max_score  \n",
        "\n",
        "\n",
        "### PART 2 ###\n",
        "# Test it, and explain how tests show the function works. Test other values.\n",
        "\n",
        "# Examples from the problem statement:\n",
        "sequence1, sequence2, score = smith_waterman('tgcatcgagaccctacgtgac', 'actagacctagcatcgac')\n",
        "print('Sequence 1: {}, Sequence 2: {}, Score: {}'.format(sequence1, sequence2, score))\n",
        "sequence1, sequence2, score = smith_waterman('tgcatcgagaccctacgtgac', 'actagacctagcatcgac', gap_penalty=2)\n",
        "print('Sequence 1: {}, Sequence 2: {}, Score: {}'.format(sequence1, sequence2, score))\n",
        "\n",
        "# Example from the cheatsheet\n",
        "sequence1, sequence2, score = smith_waterman('gttacc', 'gttgac')\n",
        "print('Sequence 1: {}, Sequence 2: {}, Score: {}'.format(sequence1, sequence2, score))\n",
        "\n",
        "# To test whether or not the above smith-waterman function is correct, I will manipulate the parameters.\n",
        "\n",
        "# Here is the control:\n",
        "sequence1, sequence2, score = smith_waterman('gacttac', 'cgtgaattcat', match = 5, gap_penalty = 4, mismatch_penalty = 3)\n",
        "print('Sequence 1: {}, Sequence 2: {}, Score: {}'.format(sequence1, sequence2, score))\n",
        "\n",
        "# Now I wil increase the match value. If I increase the match value, I expect score to increase because I'm rewarding more for matching nucleotides.\n",
        "sequence1, sequence2, score = smith_waterman('gacttac', 'cgtgaattcat', match = 6, gap_penalty = 4, mismatch_penalty = 3)\n",
        "print('Sequence 1: {}, Sequence 2: {}, Score: {}'.format(sequence1, sequence2, score))\n",
        "# The score increased from 18 to 23.\n",
        "\n",
        "# Starting from the control again, I will now increase only the gap_penalty value. This should decrease the score.\n",
        "sequence1, sequence2, score = smith_waterman('gacttac', 'cgtgaattcat', match = 5, gap_penalty = 5, mismatch_penalty = 3)\n",
        "print('Sequence 1: {}, Sequence 2: {}, Score: {}'.format(sequence1, sequence2, score))\n",
        "# The score decreased from 18 to 17.\n",
        "\n",
        "# Starting from the control again, I will now increase only the mismatch_penalty value. This should also decrease the score.\n",
        "sequence1, sequence2, score = smith_waterman('gacttac', 'cgtgaattcat', match = 5, gap_penalty = 4, mismatch_penalty = 4)\n",
        "print('Sequence 1: {}, Sequence 2: {}, Score: {}'.format(sequence1, sequence2, score))\n",
        "# The score decreased from 18 to 17.\n"
      ]
    },
    {
      "cell_type": "code",
      "source": [],
      "metadata": {
        "id": "3kWu3gaMt8Xt"
      },
      "execution_count": null,
      "outputs": []
    }
  ]
}