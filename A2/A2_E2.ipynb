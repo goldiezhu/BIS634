{
  "nbformat": 4,
  "nbformat_minor": 0,
  "metadata": {
    "colab": {
      "provenance": [],
      "authorship_tag": "ABX9TyNYiv7VFHlznMGp9g1Ajr8u",
      "include_colab_link": true
    },
    "kernelspec": {
      "name": "python3",
      "display_name": "Python 3"
    },
    "language_info": {
      "name": "python"
    }
  },
  "cells": [
    {
      "cell_type": "markdown",
      "metadata": {
        "id": "view-in-github",
        "colab_type": "text"
      },
      "source": [
        "<a href=\"https://colab.research.google.com/github/goldiezhu/BIS634/blob/main/A2/A2_E2.ipynb\" target=\"_parent\"><img src=\"https://colab.research.google.com/assets/colab-badge.svg\" alt=\"Open In Colab\"/></a>"
      ]
    },
    {
      "cell_type": "code",
      "execution_count": 74,
      "metadata": {
        "colab": {
          "base_uri": "https://localhost:8080/"
        },
        "id": "6pLbng-v9idp",
        "outputId": "dcae3c35-5f20-414d-8fa5-48e406578811"
      },
      "outputs": [
        {
          "output_type": "stream",
          "name": "stdout",
          "text": [
            "Looking in indexes: https://pypi.org/simple, https://us-python.pkg.dev/colab-wheels/public/simple/\n",
            "Requirement already satisfied: bitarray in /usr/local/lib/python3.7/dist-packages (2.6.0)\n",
            "Input a word to see if it is in the Bloom Filter: 1080\n",
            "1080 is in the filter.\n"
          ]
        }
      ],
      "source": [
        "!pip install bitarray\n",
        "import bitarray\n",
        "from hashlib import sha3_256, sha256, blake2b\n",
        "\n",
        "size = int(1e7)\n",
        "\n",
        "def my_hash(s):\n",
        "  return int(sha256(s.lower().encode()).hexdigest(), 16) % size\n",
        "\n",
        "def my_hash2(s):\n",
        "  return int(blake2b(s.lower().encode()).hexdigest(), 16) % size\n",
        "\n",
        "def my_hash3(s):\n",
        "  return int(sha3_256(s.lower().encode()).hexdigest(), 16) % size\n",
        "\n",
        "def check():\n",
        "  check_existence = input(\"Input a word to see if it is in the Bloom Filter: \")\n",
        "  check_hash1 = my_hash(check_existence)\n",
        "  check_hash2 = my_hash2(check_existence)\n",
        "  check_hash3 = my_hash3(check_existence)\n",
        "  if data[check_hash1] == False or data[check_hash2] == False or data[check_hash3] == False:\n",
        "    print(check_existence, \"is not in the filter.\")\n",
        "  else:    \n",
        "    print(check_existence, \"is in the filter.\")\n",
        "    \n",
        "\n",
        "data = bitarray.bitarray(size)\n",
        "data[:] = False\n",
        "data1 = bitarray.bitarray(size)\n",
        "data1[:] = False\n",
        "data2 = bitarray.bitarray(size)\n",
        "data2[:] = False\n",
        "data3 = bitarray.bitarray(size)\n",
        "data3[:] = False\n",
        "\n",
        "with open('words.txt') as f:\n",
        "  for line in f:\n",
        "    word = line.strip()\n",
        "    hash1 = my_hash(word)\n",
        "    hash2 = my_hash2(word)\n",
        "    hash3 = my_hash3(word)\n",
        "    data[hash1] = True\n",
        "    data[hash2] = True\n",
        "    data[hash3] = True\n",
        "\n",
        "    data1[hash1] = True\n",
        "\n",
        "    data2[hash1] = True\n",
        "    data2[hash2] = True\n",
        "\n",
        "    data3[hash1] = True\n",
        "    data3[hash2] = True\n",
        "    data3[hash3] = True\n",
        "\n",
        "check()"
      ]
    },
    {
      "cell_type": "code",
      "source": [
        "import string\n",
        "!pip install ascii\n",
        "import ascii\n",
        "import copy\n",
        "\n",
        "check_word = list(input(\"Input a word for spelling suggestions: \"))\n",
        "alphabet = string.ascii_lowercase\n",
        "alphabet_list = [i for i in alphabet]\n",
        "alphabet_count = 26\n",
        "possible_words1 = []\n",
        "possible_words2 = []\n",
        "possible_words3 = []\n",
        "\n",
        "def check2(check_existence):\n",
        "  check_hash1 = my_hash(check_existence)\n",
        "  check_hash2 = my_hash2(check_existence)\n",
        "  check_hash3 = my_hash3(check_existence)\n",
        "\n",
        "  if data1[check_hash1] == True:\n",
        "    possible_words1.append(check_existence)\n",
        "  \n",
        "  if data2[check_hash1] == True and data2[check_hash2] == True:\n",
        "    possible_words2.append(check_existence)\n",
        "\n",
        "  if data3[check_hash1] == True and data3[check_hash2] == True and data3[check_hash3] == True:\n",
        "    possible_words3.append(check_existence)\n",
        "\n",
        "def print_suggestions():\n",
        "  print(\"One Hash\")\n",
        "  print(possible_words1)\n",
        "  print(\"Two Hash\")\n",
        "  print(possible_words2)\n",
        "  print(\"Three Hash\")\n",
        "  print(possible_words3)\n",
        "\n",
        "for i in range(len(check_word)):\n",
        "  for j in range(alphabet_count):\n",
        "    temp = check_word.copy()\n",
        "    temp[i] = alphabet_list[j]\n",
        "    altered_word = \"\".join(temp)\n",
        "    check2(altered_word)\n",
        "\n",
        "print_suggestions()"
      ],
      "metadata": {
        "colab": {
          "base_uri": "https://localhost:8080/"
        },
        "id": "nJK7YZQNtsTs",
        "outputId": "ec3058bb-dc72-4a3c-f2a5-8fa95300829e"
      },
      "execution_count": 67,
      "outputs": [
        {
          "output_type": "stream",
          "name": "stdout",
          "text": [
            "Looking in indexes: https://pypi.org/simple, https://us-python.pkg.dev/colab-wheels/public/simple/\n",
            "Requirement already satisfied: ascii in /usr/local/lib/python3.7/dist-packages (3.6)\n",
            "Requirement already satisfied: urllib3 in /usr/local/lib/python3.7/dist-packages (from ascii) (1.24.3)\n",
            "Requirement already satisfied: Pillow in /usr/local/lib/python3.7/dist-packages (from ascii) (7.1.2)\n",
            "Input a word for spelling suggestions: floeer\n",
            "One Hash\n",
            "['bloeer', 'qloeer', 'fyoeer', 'flofer', 'floter', 'flower', 'floeqr', 'floees']\n",
            "Two Hash\n",
            "['fyoeer', 'floter', 'flower']\n",
            "Three Hash\n",
            "['floter', 'flower']\n"
          ]
        }
      ]
    },
    {
      "cell_type": "code",
      "source": [
        "import json\n",
        "with open(\"typos.json\") as f:\n",
        "  orig_typos_list = json.load(f)\n",
        "\n",
        "typos_list = []\n",
        "hash1_suggestions = []\n",
        "hash2_suggestions = []\n",
        "hash3_suggestions = []\n",
        "\n",
        "hash1_count = 0\n",
        "hash2_count = 0\n",
        "hash3_count = 0\n",
        "\n",
        "\n",
        "def check3(check_existence):\n",
        "  check_hash1 = my_hash(check_existence)\n",
        "  check_hash2 = my_hash2(check_existence)\n",
        "  check_hash3 = my_hash3(check_existence)\n",
        "\n",
        "  if data1[check_hash1] == True:\n",
        "    hash1_suggestions.append(check_existence)\n",
        "  \n",
        "  if data2[check_hash1] == True and data2[check_hash2] == True:\n",
        "    hash2_suggestions.append(check_existence)\n",
        "\n",
        "  if data3[check_hash1] == True and data3[check_hash2] == True and data3[check_hash3] == True:\n",
        "    hash3_suggestions.append(check_existence)\n",
        "\n",
        "def hash_counts(correct_word, hash1_count, hash2_count, hash3_count):\n",
        "\n",
        "  if len(hash1_suggestions) <= 3:\n",
        "    if correct_word in hash1_suggestions:\n",
        "      hash1_count += 1\n",
        "\n",
        "  if len(hash2_suggestions) <= 3:\n",
        "    if correct_word in hash2_suggestions:\n",
        "      hash2_count += 1\n",
        "\n",
        "  if len(hash3_suggestions) <= 3:\n",
        "    if correct_word in hash3_suggestions:\n",
        "      hash3_count += 1\n",
        "\n",
        "  hash1_suggestions.clear()\n",
        "  hash2_suggestions.clear()\n",
        "  hash3_suggestions.clear()\n",
        "\n",
        "  return(hash1_count, hash2_count, hash3_count)  \n",
        "\n",
        "#filter out correct terms\n",
        "for i in range(len(orig_typos_list)):\n",
        "  if orig_typos_list[i][0] != orig_typos_list[i][1]:\n",
        "    typos_list.append(orig_typos_list[i])\n",
        "\n",
        "#spelling suggestions\n",
        "for i in range(len(typos_list)):\n",
        "  specific_typos_string = typos_list[i][0]\n",
        "  typos_string_list = [i for i in specific_typos_string]\n",
        "  for j in range(len(typos_string_list)):\n",
        "    for k in range(alphabet_count):\n",
        "      temp = typos_string_list.copy()\n",
        "      temp[j] = alphabet_list[k]\n",
        "      altered_word = \"\".join(temp)\n",
        "      check3(altered_word)\n",
        "  hash1_count, hash2_count, hash3_count = hash_counts(typos_list[i][1], hash1_count, hash2_count, hash3_count)\n",
        "\n",
        "print(hash1_count/len(typos_list))\n",
        "print(hash2_count/len(typos_list))\n",
        "print(hash3_count/len(typos_list))  "
      ],
      "metadata": {
        "colab": {
          "base_uri": "https://localhost:8080/"
        },
        "id": "DOF3gluel2MN",
        "outputId": "cd9fd751-21af-46e7-a9fb-7f2ff7fae9cf"
      },
      "execution_count": 76,
      "outputs": [
        {
          "output_type": "stream",
          "name": "stdout",
          "text": [
            "0.00456\n",
            "0.62092\n",
            "0.916\n"
          ]
        }
      ]
    },
    {
      "cell_type": "markdown",
      "source": [
        "#7 bits\n",
        "0.00456\n",
        "0.62092\n",
        "0.916\n",
        "\n",
        "#8 bits\n",
        "0.81052\n",
        "0.9478\n",
        "0.94808\n",
        "\n",
        "#9 bits\n",
        "0.9442\n",
        "0.94808\n",
        "0.94808\n",
        "\n",
        "#10\n",
        "0.94756\n",
        "0.94808\n",
        "0.94808\n"
      ],
      "metadata": {
        "id": "R3i_x0EtsUXv"
      }
    },
    {
      "cell_type": "code",
      "source": [
        "import matplotlib.pyplot as plt\n",
        "import numpy as np\n",
        "size = [\"10\", \"100\", \"1e3\", \"1e4\", \"1e5\", \"1e6\", \"1e7\", \"1e8\", \"1e9\", \"1e10\"]\n",
        "h1 = [0, 0, 0, 0, 0, 0, 0.00456, 0.81052, 0.9442, 0.94756]\n",
        "h2 = [0, 0, 0, 0, 0, 0, 0.62092, 0.9478, 0.94808, 0.94808]\n",
        "h3 = [0, 0, 0, 0, 0, 0, 0.916, 0.94808, 0.94808, 0.94808]\n",
        "plt.plot(size, h1)\n",
        "plt.plot(size, h2)\n",
        "plt.plot(size, h3)"
      ],
      "metadata": {
        "colab": {
          "base_uri": "https://localhost:8080/",
          "height": 281
        },
        "id": "Er-TYxZTuTbd",
        "outputId": "033df537-bf3b-4654-8a49-e017cf3c70b9"
      },
      "execution_count": 79,
      "outputs": [
        {
          "output_type": "execute_result",
          "data": {
            "text/plain": [
              "[<matplotlib.lines.Line2D at 0x7f28c6dc4650>]"
            ]
          },
          "metadata": {},
          "execution_count": 79
        },
        {
          "output_type": "display_data",
          "data": {
            "text/plain": [
              "<Figure size 432x288 with 1 Axes>"
            ],
            "image/png": "[encoded data removed]"
          },
          "metadata": {
            "needs_background": "light"
          }
        }
      ]
    }
  ]
}